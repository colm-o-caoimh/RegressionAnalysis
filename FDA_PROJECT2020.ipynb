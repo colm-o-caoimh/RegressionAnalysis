{
 "cells": [
  {
   "cell_type": "markdown",
   "metadata": {},
   "source": [
    "# Project 2020 - Fundamentals of Data Analysis\n",
    "This project performs and explains simple linear regression using the Python programming language. Using the *powerproduction* dataset, it sets out to accurately predict wind turbine power output from wind speed values\n",
    "\n",
    "***\n",
    "\n",
    "<br>\n",
    "\n"
   ]
  },
  {
   "cell_type": "markdown",
   "metadata": {},
   "source": [
    "## Introduction\n",
    "\n",
    "***\n",
    "\n",
    "This project has two distinct but related aims:\n",
    "\n",
    "* To perform and explain simple linear regression using the Python programming language on the *powerproduction data set*;\n",
    "* To accurately predict wind turbine power from wind speed values. <br>\n",
    "\n",
    "In the process of explaining and performing simple linear regression on the data set, it is evident that it is not the regression model which most accurately predicts turbine power output. As a result, polynomial regression is used to build a more accurate predictive model. \n",
    "\n",
    "Throughout the project, the following *data preparation* and *model evaluation* topics are covered:\n",
    "* Outliers;\n",
    "* Train-test split procedure;\n",
    "* R-squared value;"
   ]
  },
  {
   "cell_type": "markdown",
   "metadata": {},
   "source": [
    "<br>\n",
    "\n"
   ]
  },
  {
   "cell_type": "markdown",
   "metadata": {},
   "source": [
    "## 1. Data overview\n",
    "\n",
    "***"
   ]
  },
  {
   "cell_type": "markdown",
   "metadata": {},
   "source": [
    "#### 1.1 Module imports\n",
    "\n",
    "First, the necessary modules and packages are imported:\n",
    "\n",
    "* `numpy` is a python library which allows us to work with arrays, more suited to data analysis than traditional python `lists` [1] \n",
    "* `pandas` is suited to working with data sets and provides the DataFrame structure to make this more effective and efficient [2]. \n",
    "* `matplotlib.pyplot` is used for visualisation. It is a graph plotting library on which many visualisation packages are built in python. The `pyplot` submodule contains most of matplotlib's utilities [3]\n",
    "\n",
    "The plot style and size is also set with the appropriate parameters"
   ]
  },
  {
   "cell_type": "code",
   "execution_count": 1,
   "metadata": {},
   "outputs": [],
   "source": [
    "# For arrays\n",
    "import numpy as np\n",
    "\n",
    "# For dataframes\n",
    "import pandas as pd\n",
    "\n",
    "# For plotting\n",
    "import matplotlib.pyplot as plt\n",
    "\n",
    "\n",
    "import seaborn as sns\n",
    "from sklearn.linear_model import LinearRegression"
   ]
  },
  {
   "cell_type": "code",
   "execution_count": 2,
   "metadata": {},
   "outputs": [],
   "source": [
    "# Plot style\n",
    "plt.style.use('ggplot')\n",
    "\n",
    "# Plot size\n",
    "plt.rcParams['figure.figsize'] = [11, 6]"
   ]
  },
  {
   "cell_type": "markdown",
   "metadata": {},
   "source": [
    "<br>\n",
    "\n"
   ]
  },
  {
   "cell_type": "markdown",
   "metadata": {},
   "source": [
    "Read in powerproduction.csv  "
   ]
  },
  {
   "cell_type": "code",
   "execution_count": 3,
   "metadata": {},
   "outputs": [
    {
     "data": {
      "text/html": [
       "<div>\n",
       "<style scoped>\n",
       "    .dataframe tbody tr th:only-of-type {\n",
       "        vertical-align: middle;\n",
       "    }\n",
       "\n",
       "    .dataframe tbody tr th {\n",
       "        vertical-align: top;\n",
       "    }\n",
       "\n",
       "    .dataframe thead th {\n",
       "        text-align: right;\n",
       "    }\n",
       "</style>\n",
       "<table border=\"1\" class=\"dataframe\">\n",
       "  <thead>\n",
       "    <tr style=\"text-align: right;\">\n",
       "      <th></th>\n",
       "      <th>speed</th>\n",
       "      <th>power</th>\n",
       "    </tr>\n",
       "  </thead>\n",
       "  <tbody>\n",
       "    <tr>\n",
       "      <th>0</th>\n",
       "      <td>0.000</td>\n",
       "      <td>0.0</td>\n",
       "    </tr>\n",
       "    <tr>\n",
       "      <th>1</th>\n",
       "      <td>0.125</td>\n",
       "      <td>0.0</td>\n",
       "    </tr>\n",
       "    <tr>\n",
       "      <th>2</th>\n",
       "      <td>0.150</td>\n",
       "      <td>0.0</td>\n",
       "    </tr>\n",
       "    <tr>\n",
       "      <th>3</th>\n",
       "      <td>0.225</td>\n",
       "      <td>0.0</td>\n",
       "    </tr>\n",
       "    <tr>\n",
       "      <th>4</th>\n",
       "      <td>0.275</td>\n",
       "      <td>0.0</td>\n",
       "    </tr>\n",
       "  </tbody>\n",
       "</table>\n",
       "</div>"
      ],
      "text/plain": [
       "   speed  power\n",
       "0  0.000    0.0\n",
       "1  0.125    0.0\n",
       "2  0.150    0.0\n",
       "3  0.225    0.0\n",
       "4  0.275    0.0"
      ]
     },
     "execution_count": 3,
     "metadata": {},
     "output_type": "execute_result"
    }
   ],
   "source": [
    "pp = pd.read_csv(\"powerproduction.csv\")\n",
    "pp.head()"
   ]
  },
  {
   "cell_type": "markdown",
   "metadata": {},
   "source": [
    "<br>\n",
    "\n"
   ]
  },
  {
   "cell_type": "markdown",
   "metadata": {},
   "source": [
    "The describe() method gives us a summary overview of the dataset, including the mean, standard deviation and quartile distribution of both variables"
   ]
  },
  {
   "cell_type": "code",
   "execution_count": 4,
   "metadata": {},
   "outputs": [
    {
     "data": {
      "text/html": [
       "<div>\n",
       "<style scoped>\n",
       "    .dataframe tbody tr th:only-of-type {\n",
       "        vertical-align: middle;\n",
       "    }\n",
       "\n",
       "    .dataframe tbody tr th {\n",
       "        vertical-align: top;\n",
       "    }\n",
       "\n",
       "    .dataframe thead th {\n",
       "        text-align: right;\n",
       "    }\n",
       "</style>\n",
       "<table border=\"1\" class=\"dataframe\">\n",
       "  <thead>\n",
       "    <tr style=\"text-align: right;\">\n",
       "      <th></th>\n",
       "      <th>speed</th>\n",
       "      <th>power</th>\n",
       "    </tr>\n",
       "  </thead>\n",
       "  <tbody>\n",
       "    <tr>\n",
       "      <th>count</th>\n",
       "      <td>500.000000</td>\n",
       "      <td>500.000000</td>\n",
       "    </tr>\n",
       "    <tr>\n",
       "      <th>mean</th>\n",
       "      <td>12.590398</td>\n",
       "      <td>48.014584</td>\n",
       "    </tr>\n",
       "    <tr>\n",
       "      <th>std</th>\n",
       "      <td>7.224991</td>\n",
       "      <td>41.614572</td>\n",
       "    </tr>\n",
       "    <tr>\n",
       "      <th>min</th>\n",
       "      <td>0.000000</td>\n",
       "      <td>0.000000</td>\n",
       "    </tr>\n",
       "    <tr>\n",
       "      <th>25%</th>\n",
       "      <td>6.324750</td>\n",
       "      <td>5.288000</td>\n",
       "    </tr>\n",
       "    <tr>\n",
       "      <th>50%</th>\n",
       "      <td>12.550500</td>\n",
       "      <td>41.645500</td>\n",
       "    </tr>\n",
       "    <tr>\n",
       "      <th>75%</th>\n",
       "      <td>18.775250</td>\n",
       "      <td>93.537000</td>\n",
       "    </tr>\n",
       "    <tr>\n",
       "      <th>max</th>\n",
       "      <td>25.000000</td>\n",
       "      <td>113.556000</td>\n",
       "    </tr>\n",
       "  </tbody>\n",
       "</table>\n",
       "</div>"
      ],
      "text/plain": [
       "            speed       power\n",
       "count  500.000000  500.000000\n",
       "mean    12.590398   48.014584\n",
       "std      7.224991   41.614572\n",
       "min      0.000000    0.000000\n",
       "25%      6.324750    5.288000\n",
       "50%     12.550500   41.645500\n",
       "75%     18.775250   93.537000\n",
       "max     25.000000  113.556000"
      ]
     },
     "execution_count": 4,
     "metadata": {},
     "output_type": "execute_result"
    }
   ],
   "source": [
    "pp.describe()"
   ]
  },
  {
   "cell_type": "markdown",
   "metadata": {},
   "source": [
    "<br>\n",
    "\n"
   ]
  },
  {
   "cell_type": "markdown",
   "metadata": {},
   "source": [
    "#### 1.2 Visualisation and preliminary analysis\n",
    "\n",
    "Next, the variables are plotted on a scatterplot. Scatterplots allows us to visualise the relationship between two variables in a dataset. Through visualisation, we can get a preliminary indication as to what predictive model might be best suited. This can be inferred from the shape of the relationship between the variables. It can also give us additional information, such as the presence of outliers."
   ]
  },
  {
   "cell_type": "code",
   "execution_count": 5,
   "metadata": {},
   "outputs": [
    {
     "data": {
      "text/plain": [
       "Text(0, 0.5, 'power (kW)')"
      ]
     },
     "execution_count": 5,
     "metadata": {},
     "output_type": "execute_result"
    },
    {
     "data": {
      "image/png": "[encoded data removed]",
      "text/plain": [
       "<Figure size 792x432 with 1 Axes>"
      ]
     },
     "metadata": {},
     "output_type": "display_data"
    }
   ],
   "source": [
    "# Generate scatter plot of speed and power data points\n",
    "plt.scatter(pp.speed,pp.power,color='red',marker='+', s=10)\n",
    "\n",
    "plt.title('Powerproduction data set')\n",
    "plt.xlabel('speed (m/s)')\n",
    "plt.ylabel('power (kW)')"
   ]
  },
  {
   "cell_type": "markdown",
   "metadata": {},
   "source": [
    "We can see clearly that there is a strong relationship between both variables. It is important to establish a relationship *before* attempting to fit a linear model to observed data [1]. Often, as above, this can be see through data visualisation. However we can also use statistical methods to determine the relationship. A commonly used numerical measure in this regard is the *correlation coefficient*, which quantifies the association between two variables [2]. Also known as the *r* value, this will be examined in greater detail below.\n",
    "\n",
    "##### Wind Turbine Power Curve\n",
    "Looking more closely at the plot, we see that it produces a visualisation of the typical wind turbine power curve. The *cut-in* wind speed is at ~7m/s, below which the turbine is producing hardly any power. Between speeds of ~7 and ~17m/s the power ramps up to what is known as the *rated power capacity*. From speeds of ~17m/s the power generated remains more or less constant, right up to ~25m/s, or the *cut-out* wind speed. While there is much potential power in the wind speed above the cut-out speed, the cost of making the turbine capable of producing power under these conditions outweights the benefits of more power being generated [3]. <br>\n",
    "\n",
    "##### Outliers\n",
    "What is also notable from the plot is the presence of seeming outliers in the data. Broadly speaking, an outlier is a data point that is extremely high or extremely low [4]. They can impact the performace of a predictive model, misrepresenting the the data used to train and test the model. There are a number of observations where no power (0kW) is being generated despite sufficiently high wind speeds. Many of these observations are bunched together at the highest wind-speeds recorded, **~25m/s**. Others appear isolated and occur more randomly throughout the observations. We will take a closer look at these outliers below. \n",
    "\n",
    "##### Predictive model\n",
    "From initial visualisation, we may deduce that a line (or curve) would closely fit the data. This implies that a linear regression model could be used to make power output predictions. As specified in the project brief, simple linear regression will be explained and performed on the *powerproduction* data set. A simple linear regression model has only one *predictor* i.e. a single independent variable (the *speed* variable in the context of the current project). It involves fitting a straight line to the data. However a curved line may yield more accurate results. This will also be exaimed further below."
   ]
  },
  {
   "cell_type": "markdown",
   "metadata": {},
   "source": [
    "<br>\n",
    "\n",
    "##### end section"
   ]
  },
  {
   "cell_type": "markdown",
   "metadata": {},
   "source": [
    "<br>\n",
    "\n"
   ]
  },
  {
   "cell_type": "markdown",
   "metadata": {},
   "source": [
    "## 2. Simple linear regression\n",
    "\n",
    "***"
   ]
  },
  {
   "cell_type": "markdown",
   "metadata": {},
   "source": [
    "#### 2.1 Regression Analysis\n",
    "\n",
    "Regression analysis is a statistical method which describes the relationship between a *dependent* variable and one or more *independent* variables [1]. It can be used to infer the nature of the relationship and consequently, can enable us to make predictions based on a known independent variable or establish causation relationships between variables. In machine learning, it is used primarily to build predictive models [2] and it is this use which will be investigated below.\n",
    "<br>\n",
    "\n",
    "\n",
    "##### Simple linear regression\n",
    "There are numerous types of regression analysis and choosing the most appropriate one depends on various factors, such as the nature of the data, the information the researcher is seeking to extract among others [3]. A simple linear regression model is applied to a *bivariate* data set - where one of the variables is the *predictor*, or independent variable and the other is known as the *response*, or dependent variable. The *powerproduction* data set meets this criterion with *wind speed* the predictor and *power output* the response. "
   ]
  },
  {
   "cell_type": "markdown",
   "metadata": {},
   "source": [
    "#### 2.2 Correlation coefficient\n",
    "\n",
    "As we saw above on the plot, there is visible positive relationship between speed and power in the data set. We can measure the *strength* of this relationship by calculating the correlation coefficient (also known as the *Pearson's correlation coefficient*) [4]. Using a statistical method to quantify the relationship strength makes our visual interpretation more robust. The mathematical formula is commonly expressed as [5]:\n",
    "\n",
    "$$r = \\frac{{}\\sum_{i=1}^{n} (x_i - \\overline{x})(y_i - \\overline{y})}\n",
    "{\\sqrt{\\sum_{i=1}^{n} (x_i - \\overline{x})^2(y_i - \\overline{y})^2}}$$\n",
    "\n",
    "Below, I use `numpy.corrcoef()` to generate a correlation coefficient matrix between *speed* and *power*. I slice the resulting array to get the correlation coefficient. I use code found on kite.com [6]"
   ]
  },
  {
   "cell_type": "code",
   "execution_count": 6,
   "metadata": {},
   "outputs": [
    {
     "name": "stdout",
     "output_type": "stream",
     "text": [
      "Correlation coefficient:  0.8537775037188597\n"
     ]
    }
   ],
   "source": [
    "# Generate correlation matrix\n",
    "correlation_matrix = np.corrcoef(pp.speed, pp.power)\n",
    "\n",
    "# Slice array to get correlation coefficient\n",
    "correlation_xy = correlation_matrix[0, 1]\n",
    "\n",
    "# Print value to screen\n",
    "print('Correlation coefficient: ', correlation_xy)"
   ]
  },
  {
   "cell_type": "markdown",
   "metadata": {},
   "source": [
    "A value of 0.85 indicates a strong, positive relationship between speed and power: \"Correlation coefficients whose magnitude are between 0.7 and 0.9 indicate variables which can be considered **highly correlated**.\" [7] \n",
    "\n",
    "<br>"
   ]
  },
  {
   "cell_type": "markdown",
   "metadata": {},
   "source": [
    "#### 2.3 Best fitting line\n",
    "The next step in building our simple linear regression model is to determine the best fitting line for the data. As with the *correlation coefficient* above, we can visualise the data and approximate a line which best captures the data. `numpy.polyfit()` uses a more robust, mathematical method to determine the line of best fit. This is called the *ordinary least squares method*. It is among the \"... most commonly used estimation methods for linear regression\" [8] can be expressed mathematically as: <br> $$\\Sigma_i(y_i - mx_i - c)$$ <br>\n",
    "\n",
    "where $m$ = the slope and $c$ = the y-intercept. The least squares method calculates the error between all the observed y values in the data set and the predicted y values. `polyfit()` returns the values for the coefficients $m$ and $c$ which minimize the result of the least squares method. Below, I pass the speed and power variables to the function. The third parameter is the degree of the fitting polynomial [9]. For simple linear regression, this will be 1 as a straight line is a first degree polynomial, expressed as $y = mx + c$:"
   ]
  },
  {
   "cell_type": "code",
   "execution_count": 7,
   "metadata": {},
   "outputs": [
    {
     "data": {
      "text/plain": [
       "array([  4.91759567, -13.89990263])"
      ]
     },
     "execution_count": 7,
     "metadata": {},
     "output_type": "execute_result"
    }
   ],
   "source": [
    "# Call polyfit passing speed and power as parameters\n",
    "coeffs = np.polyfit(pp.speed, pp.power, deg=1)\n",
    "\n",
    "# Output polynomial coefficients (slope and y-intercept)\n",
    "coeffs"
   ]
  },
  {
   "cell_type": "markdown",
   "metadata": {},
   "source": [
    "We can now plot the best fitting line over the data for visualisation. The polynomial coefficients represent the $m$ and $c$ values to generate the line:"
   ]
  },
  {
   "cell_type": "code",
   "execution_count": 8,
   "metadata": {},
   "outputs": [
    {
     "data": {
      "image/png": "[encoded data removed]",
      "text/plain": [
       "<Figure size 792x432 with 1 Axes>"
      ]
     },
     "metadata": {},
     "output_type": "display_data"
    }
   ],
   "source": [
    "# Plot data\n",
    "plt.plot(pp.speed, pp.power, '.', label=\"Data\")\n",
    "\n",
    "# Plot best fitting line\n",
    "plt.plot(pp.speed, coeffs[0] * pp.speed + coeffs[1], '-', label='Best fit')\n",
    "\n",
    "plt.title('Line of best fit')\n",
    "plt.xlabel('speed(m/s)')\n",
    "plt.ylabel('power(kW)')\n",
    "plt.legend();"
   ]
  },
  {
   "cell_type": "markdown",
   "metadata": {},
   "source": [
    "It is clear from this plot that the regression line does not fully capture all of the data. It over- and under-predicts at various points.\n",
    "\n",
    "<br>\n",
    "\n"
   ]
  },
  {
   "cell_type": "markdown",
   "metadata": {},
   "source": [
    "#### 2.4 Making predictions with the model\n",
    "\n",
    "Given that we now have values for the slope and intercept, we can plug speed values into the equation to predict corresponding values for power:"
   ]
  },
  {
   "cell_type": "code",
   "execution_count": 9,
   "metadata": {},
   "outputs": [
    {
     "name": "stdout",
     "output_type": "stream",
     "text": [
      "Predicted power value:  67.240425925\n"
     ]
    }
   ],
   "source": [
    "# Slope\n",
    "m = 4.91759567\n",
    "\n",
    "# Intercept\n",
    "c = -13.89990263\n",
    "\n",
    "# Pick arbitrary value for wind speed\n",
    "x = 16.5\n",
    "\n",
    "# Equation of fitted line\n",
    "y = m*x + c\n",
    "\n",
    "# Print value for y\n",
    "print('Predicted power value: ', y)"
   ]
  },
  {
   "cell_type": "markdown",
   "metadata": {},
   "source": [
    "The model predicts that power output for a wind speed of 16.5m/s would be ~67.24kW. If we check these values on our plot against the observed data, we can see that the power output of speeds of ~16.5m/s according to the observed data would be quite a bit higher. \n",
    "\n",
    "We can use `numpy`'s inbuilt `poly1d()` function to perform this same calculation [10]:"
   ]
  },
  {
   "cell_type": "code",
   "execution_count": 10,
   "metadata": {},
   "outputs": [
    {
     "data": {
      "text/plain": [
       "67.24042584865744"
      ]
     },
     "execution_count": 10,
     "metadata": {},
     "output_type": "execute_result"
    }
   ],
   "source": [
    "# Pass coeffs to the poly1d function\n",
    "predict = np.poly1d(coeffs)\n",
    "wind_speed = 16.5\n",
    "\n",
    "# Output predicted power \n",
    "predict(wind_speed)"
   ]
  },
  {
   "cell_type": "markdown",
   "metadata": {},
   "source": [
    "<br>\n",
    "\n"
   ]
  },
  {
   "cell_type": "markdown",
   "metadata": {},
   "source": [
    "#### 2.5 Model accuracy: R-squared\n",
    "\n",
    "There are various statistical methods we can use to calculate the accuracy of our model e.g. *MSE (mean squared error)*, *MAE (mean absolute error)*, *RMSE (root mean squared error)*. Below I will use the *R-squared* method. This is also known as the *coefficient of determination* [11]. We use R-squared to quantify how well the line fits the data. In this regard, we can say that it is a \"goodness of fit\" measurement [12]. The formula for R-squared can be expressed as follows: \n",
    "<br>\n",
    "\n",
    "$$ r^2 = 1 - \\frac{\\sum(y_i - \\hat{y})^2}{\\sum(y_i - \\bar{y})^2}$$ \n",
    "\n",
    "<br>\n",
    "\n",
    "where $\\hat{y}$ = the predicted value of $y$ and $\\bar{y}$ = the mean value of $y$ [13]. The R-squared value will always be between 0 and 1 and therefore can be expressed as a percentage. With this in mind, R-squared can be understood as the percentage of variation in the dependent variable that is explained by the variation in the independent variable. Generally speaking, the higher the R-squared value, the better the model fits the observed data. \n",
    "\n",
    "*It is worth pointing out that a high R-squared value does not always necessarily indicate a well-performing model e.g. in the case of overfitting a line to the data* [14].\n",
    "\n",
    "<br>\n",
    "\n",
    "##### Calculating R-squared\n",
    "R-squared is simply the correlation coefficient (or *R* value) squared. We calculated the R value above. Squaring this value, we get the R-squared value:"
   ]
  },
  {
   "cell_type": "code",
   "execution_count": 11,
   "metadata": {},
   "outputs": [
    {
     "name": "stdout",
     "output_type": "stream",
     "text": [
      "R-squared = 0.7289360258564076\n"
     ]
    }
   ],
   "source": [
    "# Square the correlation coefficient\n",
    "r_2 = correlation_xy**2\n",
    "\n",
    "print('R-squared =', r_2)"
   ]
  },
  {
   "cell_type": "markdown",
   "metadata": {},
   "source": [
    "~73% of the *total* variation in power output is explained by wind speed when we use our model to predict power output. "
   ]
  },
  {
   "cell_type": "markdown",
   "metadata": {},
   "source": [
    "<br>\n",
    "\n"
   ]
  },
  {
   "cell_type": "markdown",
   "metadata": {},
   "source": [
    "Given that the R-squared value is an measure of the accuracy of a model, I will next make some adjustments to try to increase it. First of all, let us take a look at the outliers in the data set.\n",
    "\n",
    "<br>\n",
    "\n",
    "#### 2.6 Outliers\n",
    "As noted above, the presence of outliers can result in a misrepresenation of the data when used to train a model. In linear regression models, it can have the effect of pulling the line towards them. It is not difficult to see how this may happen when we consider the *ordinary least squares* method (described above) used to calculate the best fitting line. From out plot we can see that there are a number of observations which might be considered outliers. We can use a statistical method as a more robust way of detecting outliers."
   ]
  },
  {
   "cell_type": "markdown",
   "metadata": {},
   "source": [
    "\n",
    "##### Mahalonibis Distance\n",
    "\n",
    "In researching outlier detection, much of the online resources appear to deal with *univariate* outliers [15], [16]. Additionally, detection tools available as part of the `scikit-learn` library e.g. `LocalOutlierFactor`, (which uses the nearest neighbours algorithm to detect outliers in a sample) were not suited to the current project. For *multivariate* outliers, a common statistical method of dection is the *Mahalonibis Distance* measure, which is \"... widely used distance metric for the detection of multivariate outliers...\" [17]. Indeed it has been applied to wind turbine curve modeling by a number of studies (e.g. Pei and Li, 2019) [18]. \n",
    "\n",
    "The code for the function below was found on an informative blog post [19] and applies Mahalonibis Distance to the data set to detect outliers. It returns a list of index values for the rows containing outliers as detected by the method. I locate these rows using the `pandas.loc` method and remove them from the data set:"
   ]
  },
  {
   "cell_type": "code",
   "execution_count": 12,
   "metadata": {},
   "outputs": [],
   "source": [
    "import scipy as sp\n",
    "from scipy.stats import chi2\n",
    "from sklearn.covariance import MinCovDet\n",
    "\n",
    "# Set variable df to equal pp data set\n",
    "df = pp\n",
    "\n",
    "#Robust Mahalonibis Distance\n",
    "def robust_mahalanobis_method(df):\n",
    "    #Minimum covariance determinant\n",
    "    rng = np.random.RandomState(0)\n",
    "    real_cov = np.cov(df.values.T)\n",
    "    X = rng.multivariate_normal(mean=np.mean(df, axis=0), cov=real_cov, size=506)\n",
    "    cov = MinCovDet(random_state=0).fit(X)\n",
    "    mcd = cov.covariance_ #robust covariance metric\n",
    "    robust_mean = cov.location_  #robust mean\n",
    "    inv_covmat = sp.linalg.inv(mcd) #inverse covariance metric\n",
    "    \n",
    "    #Robust M-Distance\n",
    "    x_minus_mu = df - robust_mean\n",
    "    left_term = np.dot(x_minus_mu, inv_covmat)\n",
    "    mahal = np.dot(left_term, x_minus_mu.T)\n",
    "    md = np.sqrt(mahal.diagonal())\n",
    "    \n",
    "    #Flag as outlier\n",
    "    outlier = []\n",
    "    C = np.sqrt(chi2.ppf((1-0.001), df=df.shape[1]))#degrees of freedom = number of variables\n",
    "    for index, value in enumerate(md):\n",
    "        if value > C:\n",
    "            outlier.append(index)\n",
    "        else:\n",
    "            continue\n",
    "    return outlier, md\n",
    "\n",
    "outliers_mahal_rob, md_rb = robust_mahalanobis_method(df=df)"
   ]
  },
  {
   "cell_type": "code",
   "execution_count": 13,
   "metadata": {},
   "outputs": [
    {
     "data": {
      "text/html": [
       "<div>\n",
       "<style scoped>\n",
       "    .dataframe tbody tr th:only-of-type {\n",
       "        vertical-align: middle;\n",
       "    }\n",
       "\n",
       "    .dataframe tbody tr th {\n",
       "        vertical-align: top;\n",
       "    }\n",
       "\n",
       "    .dataframe thead th {\n",
       "        text-align: right;\n",
       "    }\n",
       "</style>\n",
       "<table border=\"1\" class=\"dataframe\">\n",
       "  <thead>\n",
       "    <tr style=\"text-align: right;\">\n",
       "      <th></th>\n",
       "      <th>speed</th>\n",
       "      <th>power</th>\n",
       "    </tr>\n",
       "  </thead>\n",
       "  <tbody>\n",
       "    <tr>\n",
       "      <th>340</th>\n",
       "      <td>17.167</td>\n",
       "      <td>0.0</td>\n",
       "    </tr>\n",
       "    <tr>\n",
       "      <th>404</th>\n",
       "      <td>20.095</td>\n",
       "      <td>0.0</td>\n",
       "    </tr>\n",
       "    <tr>\n",
       "      <th>456</th>\n",
       "      <td>22.998</td>\n",
       "      <td>0.0</td>\n",
       "    </tr>\n",
       "    <tr>\n",
       "      <th>490</th>\n",
       "      <td>24.499</td>\n",
       "      <td>0.0</td>\n",
       "    </tr>\n",
       "    <tr>\n",
       "      <th>491</th>\n",
       "      <td>24.525</td>\n",
       "      <td>0.0</td>\n",
       "    </tr>\n",
       "    <tr>\n",
       "      <th>492</th>\n",
       "      <td>24.575</td>\n",
       "      <td>0.0</td>\n",
       "    </tr>\n",
       "    <tr>\n",
       "      <th>493</th>\n",
       "      <td>24.650</td>\n",
       "      <td>0.0</td>\n",
       "    </tr>\n",
       "    <tr>\n",
       "      <th>494</th>\n",
       "      <td>24.750</td>\n",
       "      <td>0.0</td>\n",
       "    </tr>\n",
       "    <tr>\n",
       "      <th>495</th>\n",
       "      <td>24.775</td>\n",
       "      <td>0.0</td>\n",
       "    </tr>\n",
       "    <tr>\n",
       "      <th>496</th>\n",
       "      <td>24.850</td>\n",
       "      <td>0.0</td>\n",
       "    </tr>\n",
       "    <tr>\n",
       "      <th>497</th>\n",
       "      <td>24.875</td>\n",
       "      <td>0.0</td>\n",
       "    </tr>\n",
       "    <tr>\n",
       "      <th>498</th>\n",
       "      <td>24.950</td>\n",
       "      <td>0.0</td>\n",
       "    </tr>\n",
       "    <tr>\n",
       "      <th>499</th>\n",
       "      <td>25.000</td>\n",
       "      <td>0.0</td>\n",
       "    </tr>\n",
       "  </tbody>\n",
       "</table>\n",
       "</div>"
      ],
      "text/plain": [
       "      speed  power\n",
       "340  17.167    0.0\n",
       "404  20.095    0.0\n",
       "456  22.998    0.0\n",
       "490  24.499    0.0\n",
       "491  24.525    0.0\n",
       "492  24.575    0.0\n",
       "493  24.650    0.0\n",
       "494  24.750    0.0\n",
       "495  24.775    0.0\n",
       "496  24.850    0.0\n",
       "497  24.875    0.0\n",
       "498  24.950    0.0\n",
       "499  25.000    0.0"
      ]
     },
     "execution_count": 13,
     "metadata": {},
     "output_type": "execute_result"
    }
   ],
   "source": [
    "# Find rows containing outlier indices\n",
    "pp_outliers = pp.loc[ outliers_mahal_rob , : ]\n",
    "\n",
    "# Output dataframe of outliers\n",
    "pp_outliers"
   ]
  },
  {
   "cell_type": "markdown",
   "metadata": {},
   "source": [
    "##### Outlier removal\n",
    "\n",
    "Above is the data frame containing the outlier observations. All the outliers detected have a power value of 0kW. This is what was observed in the scatterplot. Building on the preliminary analysis above, we can see from the data set that the final ten observations have power values of 0kW. This tells us that wind speeds of **>25.499** do not produce any power, which implies perhaps that the turbine is incapable of producing power above this value. Let's take a look at the bottom 20 rows of the original data set to see if this sudden drop-off in power production can be seen from the observations:"
   ]
  },
  {
   "cell_type": "code",
   "execution_count": 66,
   "metadata": {},
   "outputs": [
    {
     "data": {
      "text/html": [
       "<div>\n",
       "<style scoped>\n",
       "    .dataframe tbody tr th:only-of-type {\n",
       "        vertical-align: middle;\n",
       "    }\n",
       "\n",
       "    .dataframe tbody tr th {\n",
       "        vertical-align: top;\n",
       "    }\n",
       "\n",
       "    .dataframe thead th {\n",
       "        text-align: right;\n",
       "    }\n",
       "</style>\n",
       "<table border=\"1\" class=\"dataframe\">\n",
       "  <thead>\n",
       "    <tr style=\"text-align: right;\">\n",
       "      <th></th>\n",
       "      <th>speed</th>\n",
       "      <th>power</th>\n",
       "    </tr>\n",
       "  </thead>\n",
       "  <tbody>\n",
       "    <tr>\n",
       "      <th>480</th>\n",
       "      <td>23.974</td>\n",
       "      <td>94.270</td>\n",
       "    </tr>\n",
       "    <tr>\n",
       "      <th>481</th>\n",
       "      <td>24.024</td>\n",
       "      <td>105.992</td>\n",
       "    </tr>\n",
       "    <tr>\n",
       "      <th>482</th>\n",
       "      <td>24.049</td>\n",
       "      <td>93.524</td>\n",
       "    </tr>\n",
       "    <tr>\n",
       "      <th>483</th>\n",
       "      <td>24.174</td>\n",
       "      <td>95.869</td>\n",
       "    </tr>\n",
       "    <tr>\n",
       "      <th>484</th>\n",
       "      <td>24.199</td>\n",
       "      <td>101.419</td>\n",
       "    </tr>\n",
       "    <tr>\n",
       "      <th>485</th>\n",
       "      <td>24.249</td>\n",
       "      <td>103.700</td>\n",
       "    </tr>\n",
       "    <tr>\n",
       "      <th>486</th>\n",
       "      <td>24.299</td>\n",
       "      <td>93.694</td>\n",
       "    </tr>\n",
       "    <tr>\n",
       "      <th>487</th>\n",
       "      <td>24.349</td>\n",
       "      <td>93.078</td>\n",
       "    </tr>\n",
       "    <tr>\n",
       "      <th>488</th>\n",
       "      <td>24.374</td>\n",
       "      <td>98.223</td>\n",
       "    </tr>\n",
       "    <tr>\n",
       "      <th>489</th>\n",
       "      <td>24.399</td>\n",
       "      <td>95.117</td>\n",
       "    </tr>\n",
       "    <tr>\n",
       "      <th>490</th>\n",
       "      <td>24.499</td>\n",
       "      <td>0.000</td>\n",
       "    </tr>\n",
       "    <tr>\n",
       "      <th>491</th>\n",
       "      <td>24.525</td>\n",
       "      <td>0.000</td>\n",
       "    </tr>\n",
       "    <tr>\n",
       "      <th>492</th>\n",
       "      <td>24.575</td>\n",
       "      <td>0.000</td>\n",
       "    </tr>\n",
       "    <tr>\n",
       "      <th>493</th>\n",
       "      <td>24.650</td>\n",
       "      <td>0.000</td>\n",
       "    </tr>\n",
       "    <tr>\n",
       "      <th>494</th>\n",
       "      <td>24.750</td>\n",
       "      <td>0.000</td>\n",
       "    </tr>\n",
       "    <tr>\n",
       "      <th>495</th>\n",
       "      <td>24.775</td>\n",
       "      <td>0.000</td>\n",
       "    </tr>\n",
       "    <tr>\n",
       "      <th>496</th>\n",
       "      <td>24.850</td>\n",
       "      <td>0.000</td>\n",
       "    </tr>\n",
       "    <tr>\n",
       "      <th>497</th>\n",
       "      <td>24.875</td>\n",
       "      <td>0.000</td>\n",
       "    </tr>\n",
       "    <tr>\n",
       "      <th>498</th>\n",
       "      <td>24.950</td>\n",
       "      <td>0.000</td>\n",
       "    </tr>\n",
       "    <tr>\n",
       "      <th>499</th>\n",
       "      <td>25.000</td>\n",
       "      <td>0.000</td>\n",
       "    </tr>\n",
       "  </tbody>\n",
       "</table>\n",
       "</div>"
      ],
      "text/plain": [
       "      speed    power\n",
       "480  23.974   94.270\n",
       "481  24.024  105.992\n",
       "482  24.049   93.524\n",
       "483  24.174   95.869\n",
       "484  24.199  101.419\n",
       "485  24.249  103.700\n",
       "486  24.299   93.694\n",
       "487  24.349   93.078\n",
       "488  24.374   98.223\n",
       "489  24.399   95.117\n",
       "490  24.499    0.000\n",
       "491  24.525    0.000\n",
       "492  24.575    0.000\n",
       "493  24.650    0.000\n",
       "494  24.750    0.000\n",
       "495  24.775    0.000\n",
       "496  24.850    0.000\n",
       "497  24.875    0.000\n",
       "498  24.950    0.000\n",
       "499  25.000    0.000"
      ]
     },
     "execution_count": 66,
     "metadata": {},
     "output_type": "execute_result"
    }
   ],
   "source": [
    "# Output bottom 20 rows\n",
    "pp.tail(20)"
   ]
  },
  {
   "cell_type": "markdown",
   "metadata": {},
   "source": [
    "It appears evident that wind speeds above **~24.499** do not produce any power. This should be reflected in our model and so should not be removed from the data set.\n",
    "\n",
    "The remaining outliers however, appear to buck the general trend quite significantly and so will be removed. First, I use the `truncate()` method to view rows containing these outliers [20]:"
   ]
  },
  {
   "cell_type": "code",
   "execution_count": 77,
   "metadata": {},
   "outputs": [
    {
     "data": {
      "text/html": [
       "<div>\n",
       "<style scoped>\n",
       "    .dataframe tbody tr th:only-of-type {\n",
       "        vertical-align: middle;\n",
       "    }\n",
       "\n",
       "    .dataframe tbody tr th {\n",
       "        vertical-align: top;\n",
       "    }\n",
       "\n",
       "    .dataframe thead th {\n",
       "        text-align: right;\n",
       "    }\n",
       "</style>\n",
       "<table border=\"1\" class=\"dataframe\">\n",
       "  <thead>\n",
       "    <tr style=\"text-align: right;\">\n",
       "      <th></th>\n",
       "      <th>speed</th>\n",
       "      <th>power</th>\n",
       "    </tr>\n",
       "  </thead>\n",
       "  <tbody>\n",
       "    <tr>\n",
       "      <th>340</th>\n",
       "      <td>17.167</td>\n",
       "      <td>0.0</td>\n",
       "    </tr>\n",
       "    <tr>\n",
       "      <th>404</th>\n",
       "      <td>20.095</td>\n",
       "      <td>0.0</td>\n",
       "    </tr>\n",
       "    <tr>\n",
       "      <th>456</th>\n",
       "      <td>22.998</td>\n",
       "      <td>0.0</td>\n",
       "    </tr>\n",
       "  </tbody>\n",
       "</table>\n",
       "</div>"
      ],
      "text/plain": [
       "      speed  power\n",
       "340  17.167    0.0\n",
       "404  20.095    0.0\n",
       "456  22.998    0.0"
      ]
     },
     "execution_count": 77,
     "metadata": {},
     "output_type": "execute_result"
    }
   ],
   "source": [
    "# Retain outliers for removal\n",
    "pp_outliers = pp_outliers.truncate(after=456)\n",
    "\n",
    "# Output data set \n",
    "pp_outliers"
   ]
  },
  {
   "cell_type": "markdown",
   "metadata": {},
   "source": [
    "Below, I remove them from the data set, creating an updated data set `pp_updated` in the process:"
   ]
  },
  {
   "cell_type": "code",
   "execution_count": 78,
   "metadata": {},
   "outputs": [],
   "source": [
    "# Remove outliers from data set\n",
    "pp_updated = pp.drop([340, 404, 456])"
   ]
  },
  {
   "cell_type": "code",
   "execution_count": 79,
   "metadata": {},
   "outputs": [
    {
     "data": {
      "text/html": [
       "<div>\n",
       "<style scoped>\n",
       "    .dataframe tbody tr th:only-of-type {\n",
       "        vertical-align: middle;\n",
       "    }\n",
       "\n",
       "    .dataframe tbody tr th {\n",
       "        vertical-align: top;\n",
       "    }\n",
       "\n",
       "    .dataframe thead th {\n",
       "        text-align: right;\n",
       "    }\n",
       "</style>\n",
       "<table border=\"1\" class=\"dataframe\">\n",
       "  <thead>\n",
       "    <tr style=\"text-align: right;\">\n",
       "      <th></th>\n",
       "      <th>speed</th>\n",
       "      <th>power</th>\n",
       "    </tr>\n",
       "  </thead>\n",
       "  <tbody>\n",
       "    <tr>\n",
       "      <th>count</th>\n",
       "      <td>497.000000</td>\n",
       "      <td>497.000000</td>\n",
       "    </tr>\n",
       "    <tr>\n",
       "      <th>mean</th>\n",
       "      <td>12.545149</td>\n",
       "      <td>48.304410</td>\n",
       "    </tr>\n",
       "    <tr>\n",
       "      <th>std</th>\n",
       "      <td>7.220804</td>\n",
       "      <td>41.571853</td>\n",
       "    </tr>\n",
       "    <tr>\n",
       "      <th>min</th>\n",
       "      <td>0.000000</td>\n",
       "      <td>0.000000</td>\n",
       "    </tr>\n",
       "    <tr>\n",
       "      <th>25%</th>\n",
       "      <td>6.231000</td>\n",
       "      <td>5.352000</td>\n",
       "    </tr>\n",
       "    <tr>\n",
       "      <th>50%</th>\n",
       "      <td>12.487000</td>\n",
       "      <td>42.336000</td>\n",
       "    </tr>\n",
       "    <tr>\n",
       "      <th>75%</th>\n",
       "      <td>18.744000</td>\n",
       "      <td>93.567000</td>\n",
       "    </tr>\n",
       "    <tr>\n",
       "      <th>max</th>\n",
       "      <td>25.000000</td>\n",
       "      <td>113.556000</td>\n",
       "    </tr>\n",
       "  </tbody>\n",
       "</table>\n",
       "</div>"
      ],
      "text/plain": [
       "            speed       power\n",
       "count  497.000000  497.000000\n",
       "mean    12.545149   48.304410\n",
       "std      7.220804   41.571853\n",
       "min      0.000000    0.000000\n",
       "25%      6.231000    5.352000\n",
       "50%     12.487000   42.336000\n",
       "75%     18.744000   93.567000\n",
       "max     25.000000  113.556000"
      ]
     },
     "execution_count": 79,
     "metadata": {},
     "output_type": "execute_result"
    }
   ],
   "source": [
    "# Output statistical summary of updated data frame\n",
    "pp_updated.describe()"
   ]
  },
  {
   "cell_type": "code",
   "execution_count": 80,
   "metadata": {},
   "outputs": [
    {
     "data": {
      "text/plain": [
       "Text(0, 0.5, 'power (kW)')"
      ]
     },
     "execution_count": 80,
     "metadata": {},
     "output_type": "execute_result"
    },
    {
     "data": {
      "image/png": "[encoded data removed]",
      "text/plain": [
       "<Figure size 792x432 with 1 Axes>"
      ]
     },
     "metadata": {},
     "output_type": "display_data"
    }
   ],
   "source": [
    "# Plot data with detected outliers removed\n",
    "plt.scatter(pp_updated['speed'], pp_updated['power'], color='brown', marker='o', s=10)\n",
    "\n",
    "plt.title('Detected outliers removed')\n",
    "plt.xlabel('speed (m/s)')\n",
    "plt.ylabel('power (kW)')"
   ]
  },
  {
   "cell_type": "markdown",
   "metadata": {},
   "source": [
    "The Mahalonibis Distance function detected all but one outlier. I will remove this too for improved performance. Firstly, we view the last 11 observations with power = 0kW. We know already that the last 10 from the original data set will be retained:"
   ]
  },
  {
   "cell_type": "code",
   "execution_count": 84,
   "metadata": {},
   "outputs": [
    {
     "data": {
      "text/html": [
       "<div>\n",
       "<style scoped>\n",
       "    .dataframe tbody tr th:only-of-type {\n",
       "        vertical-align: middle;\n",
       "    }\n",
       "\n",
       "    .dataframe tbody tr th {\n",
       "        vertical-align: top;\n",
       "    }\n",
       "\n",
       "    .dataframe thead th {\n",
       "        text-align: right;\n",
       "    }\n",
       "</style>\n",
       "<table border=\"1\" class=\"dataframe\">\n",
       "  <thead>\n",
       "    <tr style=\"text-align: right;\">\n",
       "      <th></th>\n",
       "      <th>speed</th>\n",
       "      <th>power</th>\n",
       "    </tr>\n",
       "  </thead>\n",
       "  <tbody>\n",
       "    <tr>\n",
       "      <th>208</th>\n",
       "      <td>10.511</td>\n",
       "      <td>0.0</td>\n",
       "    </tr>\n",
       "    <tr>\n",
       "      <th>490</th>\n",
       "      <td>24.499</td>\n",
       "      <td>0.0</td>\n",
       "    </tr>\n",
       "    <tr>\n",
       "      <th>491</th>\n",
       "      <td>24.525</td>\n",
       "      <td>0.0</td>\n",
       "    </tr>\n",
       "    <tr>\n",
       "      <th>492</th>\n",
       "      <td>24.575</td>\n",
       "      <td>0.0</td>\n",
       "    </tr>\n",
       "    <tr>\n",
       "      <th>493</th>\n",
       "      <td>24.650</td>\n",
       "      <td>0.0</td>\n",
       "    </tr>\n",
       "    <tr>\n",
       "      <th>494</th>\n",
       "      <td>24.750</td>\n",
       "      <td>0.0</td>\n",
       "    </tr>\n",
       "    <tr>\n",
       "      <th>495</th>\n",
       "      <td>24.775</td>\n",
       "      <td>0.0</td>\n",
       "    </tr>\n",
       "    <tr>\n",
       "      <th>496</th>\n",
       "      <td>24.850</td>\n",
       "      <td>0.0</td>\n",
       "    </tr>\n",
       "    <tr>\n",
       "      <th>497</th>\n",
       "      <td>24.875</td>\n",
       "      <td>0.0</td>\n",
       "    </tr>\n",
       "    <tr>\n",
       "      <th>498</th>\n",
       "      <td>24.950</td>\n",
       "      <td>0.0</td>\n",
       "    </tr>\n",
       "    <tr>\n",
       "      <th>499</th>\n",
       "      <td>25.000</td>\n",
       "      <td>0.0</td>\n",
       "    </tr>\n",
       "  </tbody>\n",
       "</table>\n",
       "</div>"
      ],
      "text/plain": [
       "      speed  power\n",
       "208  10.511    0.0\n",
       "490  24.499    0.0\n",
       "491  24.525    0.0\n",
       "492  24.575    0.0\n",
       "493  24.650    0.0\n",
       "494  24.750    0.0\n",
       "495  24.775    0.0\n",
       "496  24.850    0.0\n",
       "497  24.875    0.0\n",
       "498  24.950    0.0\n",
       "499  25.000    0.0"
      ]
     },
     "execution_count": 84,
     "metadata": {},
     "output_type": "execute_result"
    }
   ],
   "source": [
    "# Data set containing only power=0 values\n",
    "pp_zero = pp_updated.loc[pp_updated['power'] == 0]\n",
    "\n",
    "# Output last 11 rows\n",
    "pp_zero.tail(11)"
   ]
  },
  {
   "cell_type": "markdown",
   "metadata": {},
   "source": [
    "We can see that the outlier is at index 208. This can be removed with the following code:"
   ]
  },
  {
   "cell_type": "code",
   "execution_count": 85,
   "metadata": {},
   "outputs": [],
   "source": [
    "# Updated dataframe with all outliers removed\n",
    "pp_clean = pp_updated.drop([208])"
   ]
  },
  {
   "cell_type": "code",
   "execution_count": 86,
   "metadata": {},
   "outputs": [
    {
     "data": {
      "text/plain": [
       "Text(0, 0.5, 'power (kW)')"
      ]
     },
     "execution_count": 86,
     "metadata": {},
     "output_type": "execute_result"
    },
    {
     "data": {
      "image/png": "[encoded data removed]",
      "text/plain": [
       "<Figure size 792x432 with 1 Axes>"
      ]
     },
     "metadata": {},
     "output_type": "display_data"
    }
   ],
   "source": [
    "# Plot data with all outliers removed\n",
    "plt.scatter(pp_clean['speed'], pp_clean['power'], color='brown', marker='o', s=10)\n",
    "\n",
    "plt.title('All outliers removed')\n",
    "plt.xlabel('speed (m/s)')\n",
    "plt.ylabel('power (kW)')"
   ]
  },
  {
   "cell_type": "markdown",
   "metadata": {},
   "source": [
    "##### Model after outlier removal\n",
    "\n",
    "Now, let us build a simple linear regression model with outliers removed from the data set to see how this adjustment affects the performance of the model:"
   ]
  },
  {
   "cell_type": "code",
   "execution_count": 87,
   "metadata": {},
   "outputs": [
    {
     "data": {
      "text/plain": [
       "array([  4.99207617, -14.24501343])"
      ]
     },
     "execution_count": 87,
     "metadata": {},
     "output_type": "execute_result"
    }
   ],
   "source": [
    "# Call polyfit passing speed and power as parameters\n",
    "coeffs2 = np.polyfit(pp_clean.speed, pp_clean.power, 1)\n",
    "\n",
    "# Output polynomial coefficients (slope and y-intercept)\n",
    "coeffs2"
   ]
  },
  {
   "cell_type": "markdown",
   "metadata": {},
   "source": [
    "We can see immediately that the slope and intercept of the line of best fit have changed. Using `poly1d()` once more let us use the new model to make predictions:"
   ]
  },
  {
   "cell_type": "code",
   "execution_count": 88,
   "metadata": {},
   "outputs": [
    {
     "data": {
      "text/plain": [
       "array([-1.42450134e+01, -1.36210039e+01, -1.34962020e+01, -1.31217963e+01,\n",
       "       -1.28721925e+01, -1.26225887e+01, -1.22481830e+01, -1.19985792e+01,\n",
       "       -1.17439833e+01, -1.16191814e+01, -1.14943795e+01, -1.13695776e+01,\n",
       "       -1.11199738e+01, -1.08703699e+01, -1.07455680e+01, -1.06207661e+01,\n",
       "       -1.04959642e+01, -1.02463604e+01, -1.01215585e+01, -9.99675662e+00,\n",
       "       -9.62235091e+00, -9.49754900e+00, -9.37274710e+00, -9.24794519e+00,\n",
       "       -9.12314329e+00, -8.99834138e+00, -8.87353948e+00, -8.74873758e+00,\n",
       "       -8.49913377e+00, -7.99992615e+00, -7.87512425e+00, -7.75032234e+00,\n",
       "       -7.25111473e+00, -7.12631282e+00, -6.74691503e+00, -6.49731123e+00,\n",
       "       -5.99810361e+00, -5.87330170e+00, -5.74849980e+00, -5.12449028e+00,\n",
       "       -4.87488647e+00, -4.75008457e+00, -4.12607505e+00, -3.87647124e+00,\n",
       "       -3.75166933e+00, -3.37726362e+00, -3.12765981e+00, -3.00285791e+00,\n",
       "       -2.25404648e+00, -1.87964077e+00, -1.50024298e+00, -1.37544108e+00,\n",
       "       -7.51431559e-01, -1.27422038e-01, -2.62013417e-03,  4.96587482e-01,\n",
       "        7.46191291e-01,  8.70993195e-01,  9.95795099e-01,  1.12059700e+00,\n",
       "        1.37020081e+00,  1.74460652e+00,  2.61821985e+00,  2.74302176e+00,\n",
       "        2.86782366e+00,  3.24722145e+00,  3.37202335e+00,  3.62162716e+00,\n",
       "        3.74642907e+00,  3.87123097e+00,  4.12083478e+00,  4.24563668e+00,\n",
       "        4.37043859e+00,  4.62004240e+00,  4.74484430e+00,  5.11925001e+00,\n",
       "        5.24405192e+00,  5.36885382e+00,  5.49365572e+00,  5.61845763e+00,\n",
       "        6.61687286e+00,  7.24088238e+00,  7.36568429e+00,  7.86489190e+00,\n",
       "        8.36909160e+00,  8.49389350e+00,  8.74349731e+00,  9.36750683e+00,\n",
       "        9.61711064e+00,  1.01163183e+01,  1.02411202e+01,  1.03659221e+01,\n",
       "        1.04907240e+01,  1.06155259e+01,  1.08651297e+01,  1.11147335e+01,\n",
       "        1.13643373e+01,  1.16139411e+01,  1.17387430e+01,  1.19883468e+01,\n",
       "        1.21131487e+01,  1.22379506e+01,  1.28619601e+01,  1.29867620e+01,\n",
       "        1.32413579e+01,  1.34909617e+01,  1.38653675e+01,  1.41149713e+01,\n",
       "        1.42397732e+01,  1.43645751e+01,  1.46141789e+01,  1.47389808e+01,\n",
       "        1.48637827e+01,  1.52381884e+01,  1.53629903e+01,  1.54877922e+01,\n",
       "        1.56125941e+01,  1.57373960e+01,  1.58621979e+01,  1.61118017e+01,\n",
       "        1.62366036e+01,  1.63614055e+01,  1.64862074e+01,  1.66110093e+01,\n",
       "        1.68606132e+01,  1.74846227e+01,  1.77342265e+01,  1.79838303e+01,\n",
       "        1.81086322e+01,  1.87376338e+01,  1.91120395e+01,  1.93616433e+01,\n",
       "        1.94864452e+01,  1.96112471e+01,  1.98608509e+01,  1.99856528e+01,\n",
       "        2.04848604e+01,  2.06096624e+01,  2.09840681e+01,  2.11088700e+01,\n",
       "        2.12336719e+01,  2.14832757e+01,  2.16080776e+01,  2.17328795e+01,\n",
       "        2.18576814e+01,  2.19824833e+01,  2.22320871e+01,  2.26064928e+01,\n",
       "        2.27312947e+01,  2.28560966e+01,  2.32354944e+01,  2.34850982e+01,\n",
       "        2.37347020e+01,  2.38595039e+01,  2.41091077e+01,  2.42339097e+01,\n",
       "        2.43587116e+01,  2.47331173e+01,  2.48579192e+01,  2.49827211e+01,\n",
       "        2.51075230e+01,  2.52323249e+01,  2.53571268e+01,  2.58563344e+01,\n",
       "        2.61059382e+01,  2.63555420e+01,  2.66051458e+01,  2.67299477e+01,\n",
       "        2.72291553e+01,  2.77283630e+01,  2.79779668e+01,  2.83573646e+01,\n",
       "        2.88565722e+01,  2.89813741e+01,  2.91061760e+01,  2.94805817e+01,\n",
       "        2.98549874e+01,  2.99797893e+01,  3.01045912e+01,  3.04789969e+01,\n",
       "        3.17270160e+01,  3.19766198e+01,  3.22262236e+01,  3.28502331e+01,\n",
       "        3.33544328e+01,  3.34792347e+01,  3.37288385e+01,  3.43528480e+01,\n",
       "        3.47272538e+01,  3.48520557e+01,  3.49768576e+01,  3.51016595e+01,\n",
       "        3.53512633e+01,  3.54760652e+01,  3.56008671e+01,  3.58504709e+01,\n",
       "        3.61000747e+01,  3.62248766e+01,  3.63496785e+01,  3.64744804e+01,\n",
       "        3.65992823e+01,  3.67240842e+01,  3.68488861e+01,  3.69736880e+01,\n",
       "        3.70984899e+01,  3.74728956e+01,  3.75976975e+01,  3.80969052e+01,\n",
       "        3.84763030e+01,  3.89755106e+01,  3.92251144e+01,  3.93499163e+01,\n",
       "        3.94747182e+01,  4.00987277e+01,  4.04731334e+01,  4.05979353e+01,\n",
       "        4.07227372e+01,  4.08475391e+01,  4.12219448e+01,  4.14715487e+01,\n",
       "        4.17211525e+01,  4.20955582e+01,  4.22203601e+01,  4.23451620e+01,\n",
       "        4.24699639e+01,  4.25947658e+01,  4.37229750e+01,  4.39725788e+01,\n",
       "        4.40973807e+01,  4.43469845e+01,  4.45965883e+01,  4.47213902e+01,\n",
       "        4.49709940e+01,  4.53453998e+01,  4.54702017e+01,  4.55950036e+01,\n",
       "        4.58446074e+01,  4.64686169e+01,  4.65934188e+01,  4.67182207e+01,\n",
       "        4.69678245e+01,  4.70926264e+01,  4.73422302e+01,  4.74670321e+01,\n",
       "        4.75918340e+01,  4.77166359e+01,  4.79662397e+01,  4.80910416e+01,\n",
       "        4.83456375e+01,  4.84704394e+01,  4.85952413e+01,  4.87200432e+01,\n",
       "        4.89696471e+01,  4.92192509e+01,  4.93440528e+01,  4.95936566e+01,\n",
       "        4.99680623e+01,  5.00928642e+01,  5.04672699e+01,  5.05920718e+01,\n",
       "        5.08416756e+01,  5.19648928e+01,  5.22144966e+01,  5.23392985e+01,\n",
       "        5.25889023e+01,  5.28385061e+01,  5.33427058e+01,  5.34675077e+01,\n",
       "        5.42163191e+01,  5.43411210e+01,  5.53395362e+01,  5.54643381e+01,\n",
       "        5.55891400e+01,  5.57139420e+01,  5.58387439e+01,  5.63379515e+01,\n",
       "        5.65875553e+01,  5.69619610e+01,  5.70867629e+01,  5.73363667e+01,\n",
       "        5.74611686e+01,  5.75859705e+01,  5.80851781e+01,  5.83397740e+01,\n",
       "        5.85893778e+01,  5.87141797e+01,  5.88389816e+01,  5.92133873e+01,\n",
       "        5.93381892e+01,  5.94629912e+01,  5.98373969e+01,  5.99621988e+01,\n",
       "        6.09606140e+01,  6.12102178e+01,  6.13350197e+01,  6.14598216e+01,\n",
       "        6.15846235e+01,  6.17094254e+01,  6.18342273e+01,  6.19590292e+01,\n",
       "        6.22086330e+01,  6.23334349e+01,  6.27078407e+01,  6.29574445e+01,\n",
       "        6.30822464e+01,  6.33368423e+01,  6.35864461e+01,  6.39608518e+01,\n",
       "        6.42104556e+01,  6.43352575e+01,  6.44600594e+01,  6.47096632e+01,\n",
       "        6.52088708e+01,  6.55832765e+01,  6.58328803e+01,  6.59576822e+01,\n",
       "        6.60824841e+01,  6.65816918e+01,  6.68312956e+01,  6.70808994e+01,\n",
       "        6.74553051e+01,  6.78297108e+01,  6.79545127e+01,  6.84587124e+01,\n",
       "        6.85835143e+01,  6.87083162e+01,  6.89579200e+01,  6.90827219e+01,\n",
       "        6.92075238e+01,  6.95819295e+01,  6.98315333e+01,  7.02059391e+01,\n",
       "        7.03307410e+01,  7.04555429e+01,  7.05803448e+01,  7.07051467e+01,\n",
       "        7.09547505e+01,  7.12043543e+01,  7.13291562e+01,  7.19531657e+01,\n",
       "        7.22027695e+01,  7.23275714e+01,  7.24523733e+01,  7.27019771e+01,\n",
       "        7.28267790e+01,  7.29515810e+01,  7.30763829e+01,  7.32061768e+01,\n",
       "        7.33309787e+01,  7.34557806e+01,  7.35805825e+01,  7.37053845e+01,\n",
       "        7.38301864e+01,  7.45789978e+01,  7.47037997e+01,  7.48286016e+01,\n",
       "        7.50782054e+01,  7.58270168e+01,  7.59518187e+01,  7.60766206e+01,\n",
       "        7.67006302e+01,  7.69502340e+01,  7.71998378e+01,  7.74494416e+01,\n",
       "        7.75742435e+01,  7.76990454e+01,  7.82032451e+01,  7.83280470e+01,\n",
       "        7.85776508e+01,  7.87024527e+01,  7.90768584e+01,  7.93264622e+01,\n",
       "        7.94512641e+01,  7.95760660e+01,  7.98256698e+01,  7.99504717e+01,\n",
       "        8.02000755e+01,  8.03248774e+01,  8.05744813e+01,  8.08240851e+01,\n",
       "        8.09488870e+01,  8.10736889e+01,  8.14480946e+01,  8.15728965e+01,\n",
       "        8.19473022e+01,  8.28209155e+01,  8.33251152e+01,  8.34499171e+01,\n",
       "        8.35747190e+01,  8.36995209e+01,  8.38243228e+01,  8.39491247e+01,\n",
       "        8.40739266e+01,  8.41987286e+01,  8.44483324e+01,  8.45731343e+01,\n",
       "        8.46979362e+01,  8.48227381e+01,  8.50723419e+01,  8.53219457e+01,\n",
       "        8.54467476e+01,  8.58211533e+01,  8.61955590e+01,  8.63203609e+01,\n",
       "        8.64451628e+01,  8.66947666e+01,  8.69443704e+01,  8.70691723e+01,\n",
       "        8.71939743e+01,  8.73187762e+01,  8.79427857e+01,  8.81973816e+01,\n",
       "        8.84469854e+01,  8.88213911e+01,  8.89461930e+01,  8.94454006e+01,\n",
       "        8.95702025e+01,  8.99446082e+01,  9.08182215e+01,  9.09430235e+01,\n",
       "        9.11926273e+01,  9.21910425e+01,  9.25654482e+01,  9.26902501e+01,\n",
       "        9.28150520e+01,  9.29398539e+01,  9.30646558e+01,  9.36936574e+01,\n",
       "        9.39432612e+01,  9.41928650e+01,  9.46920727e+01,  9.48168746e+01,\n",
       "        9.51912803e+01,  9.56904879e+01,  9.59400917e+01,  9.63144974e+01,\n",
       "        9.66889031e+01,  9.68137050e+01,  9.69385069e+01,  9.70633088e+01,\n",
       "        9.71881107e+01,  9.73129126e+01,  9.76873184e+01,  9.79369222e+01,\n",
       "        9.80617241e+01,  9.81915180e+01,  9.86907257e+01,  9.89403295e+01,\n",
       "        9.91899333e+01,  9.94395371e+01,  9.95643390e+01,  9.96891409e+01,\n",
       "        9.99387447e+01,  1.00687556e+02,  1.01186764e+02,  1.01685971e+02,\n",
       "        1.01810773e+02,  1.01935575e+02,  1.02060377e+02,  1.02185179e+02,\n",
       "        1.02309981e+02,  1.02434783e+02,  1.02684387e+02,  1.02933990e+02,\n",
       "        1.03058792e+02,  1.03313388e+02,  1.03438190e+02,  1.03562992e+02,\n",
       "        1.03687794e+02,  1.04062200e+02,  1.04187002e+02,  1.04561407e+02,\n",
       "        1.04686209e+02,  1.04811011e+02,  1.05060615e+02,  1.05310219e+02,\n",
       "        1.05435021e+02,  1.05684624e+02,  1.05809426e+02,  1.06433436e+02,\n",
       "        1.06558238e+02,  1.06807842e+02,  1.07057445e+02,  1.07307049e+02,\n",
       "        1.07431851e+02,  1.07556653e+02,  1.08055861e+02,  1.08185655e+02,\n",
       "        1.08435258e+02,  1.08809664e+02,  1.09308872e+02,  1.09433674e+02,\n",
       "        1.09808079e+02,  1.09932881e+02,  1.10307287e+02,  1.10556891e+02])"
      ]
     },
     "execution_count": 88,
     "metadata": {},
     "output_type": "execute_result"
    }
   ],
   "source": [
    "# Pass coeffs to the poly1d function\n",
    "predict2 = np.poly1d(coeffs2)\n",
    "\n",
    "# Output predicted power values\n",
    "predict2(pp_clean.speed)"
   ]
  },
  {
   "cell_type": "markdown",
   "metadata": {},
   "source": [
    "Taking a look at the array of predicted values we see that our model predicts some negative values for power output. It is clear how this is happening when we visualise these predictions. Below, I plot both lines over a scatter plot of the data. The code for this plot was taken from the course notes for this module (Fundamentals of Data Analysis) [20]"
   ]
  },
  {
   "cell_type": "code",
   "execution_count": 89,
   "metadata": {},
   "outputs": [
    {
     "data": {
      "image/png": "[encoded data removed]",
      "text/plain": [
       "<Figure size 792x432 with 1 Axes>"
      ]
     },
     "metadata": {},
     "output_type": "display_data"
    }
   ],
   "source": [
    "# Plot both lines on one plot.\n",
    "plt.plot(pp.speed, pp.power, '.', label=\"Outliers\")\n",
    "plt.plot(pp.speed, coeffs[0] * pp.speed + coeffs[1], '-', label='With outliers')\n",
    "plt.plot(pp_clean.speed, pp_clean.power, '.', label=\"Remaining data\")\n",
    "plt.plot(pp_clean.speed, coeffs2[0] * pp_clean.speed + coeffs2[1], '-', label='Outliers removed')\n",
    "\n",
    "plt.title('Regressions lines with/without outliers')\n",
    "plt.xlabel('speed(m/s)')\n",
    "plt.ylabel('power(kW)')\n",
    "plt.legend();"
   ]
  },
  {
   "cell_type": "markdown",
   "metadata": {},
   "source": [
    "From this plot we get a visualisation of the difference made by the removal of outliers. The regression line is pulled towards the outliers when they remain in the data set. Calculating the R-squared value for our updated model will give us further indication that we now have a better fitting line:"
   ]
  },
  {
   "cell_type": "code",
   "execution_count": 90,
   "metadata": {},
   "outputs": [
    {
     "name": "stdout",
     "output_type": "stream",
     "text": [
      "R-squared of updated data set:  0.7537917016014849\n"
     ]
    }
   ],
   "source": [
    "# Generate correlation matrix\n",
    "correlation_matrix2 = np.corrcoef(pp_clean.speed, pp_clean.power)\n",
    "\n",
    "# Slice array to get correlation coefficient\n",
    "correlation_xy2 = correlation_matrix2[0, 1]\n",
    "\n",
    "# Calculate R-squared value\n",
    "r_2_clean = correlation_xy2 ** 2\n",
    "\n",
    "# Print result to screen\n",
    "print('R-squared of updated data set: ', r_2_clean)"
   ]
  },
  {
   "cell_type": "markdown",
   "metadata": {},
   "source": [
    "Once the outliers have been removed, we can see the impact it has visually but also in terms of statistical \"goodness-of-fit\" metrics. The R-squared value before outliers were removed was **~0.73** while after removal is **~0.90**."
   ]
  },
  {
   "cell_type": "markdown",
   "metadata": {},
   "source": [
    "<br>\n",
    "\n",
    "##### end section"
   ]
  },
  {
   "cell_type": "markdown",
   "metadata": {},
   "source": [
    "<br>\n",
    "\n"
   ]
  },
  {
   "cell_type": "markdown",
   "metadata": {},
   "source": [
    "## 3. Polynomial Regression\n",
    "\n",
    "***\n",
    "\n",
    "The removal of outliers has improved the accuracy of the linear regression model. This can be visualised on the plot generated above but it was also verified statistically through comparison of the R-squared values. However, it is clear that a straight line does not fully capture all of the data. A simple linear regression model over- and under-predicts at various points, predicting negative values of turbine power output.\n",
    "\n",
    "Given that the *power* and *speed* variables do not have a linear relationship, a polynomial regression model could be used to fit a *curve* to the data. Polynomial regression is still considered a linear regression and like the example above, it uses the relationship between the independent and dependent variables to best fit a line/curve to the data points. It involves adding exponents to the input variable (speed), thereby adding curves to the line [21]. The equation for polynomial regression can be expressed as: $$y = b_0 + b_1x_1 + b_2x_1^2 + ... + b_nx_1^n$$\n",
    "\n",
    "<br>\n",
    "\n",
    "where $b$ is a set of coefficients and $n$ is the degree of the polynomial [22]. For our simple linear regression model above, we saw that the `polyfit()` function returned the coefficients for the equation of a line ($y = mx + c$). Changing the degree parameter (`deg`), we can perform regression with higher order terms:"
   ]
  },
  {
   "cell_type": "code",
   "execution_count": 94,
   "metadata": {
    "scrolled": false
   },
   "outputs": [],
   "source": [
    "# Call polyfit with degree = 9\n",
    "poly_coeffs = np.polyfit(pp_clean.speed, pp_clean.power, deg=3)\n",
    "\n",
    "# Use poly1d to estimate unknown values\n",
    "poly_predict = np.poly1d(poly_coeffs)"
   ]
  },
  {
   "cell_type": "markdown",
   "metadata": {},
   "source": [
    "We can take a quick look at the coefficients returned:"
   ]
  },
  {
   "cell_type": "code",
   "execution_count": 95,
   "metadata": {},
   "outputs": [
    {
     "name": "stdout",
     "output_type": "stream",
     "text": [
      "[ -0.053242     1.92688792 -13.20308301  19.60778438]\n"
     ]
    }
   ],
   "source": [
    "print(poly_coeffs)"
   ]
  },
  {
   "cell_type": "markdown",
   "metadata": {},
   "source": [
    "There are 9 coefficients, one for each of the 9 terms in the polynomial equation, followed by the intercept. \n",
    "\n",
    "Now we can plot the curve using the calculated coefficients and the predicted values of power from speed:"
   ]
  },
  {
   "cell_type": "code",
   "execution_count": 96,
   "metadata": {},
   "outputs": [
    {
     "data": {
      "text/plain": [
       "<matplotlib.legend.Legend at 0x212fb2136a0>"
      ]
     },
     "execution_count": 96,
     "metadata": {},
     "output_type": "execute_result"
    },
    {
     "data": {
      "image/png": "[encoded data removed]",
      "text/plain": [
       "<Figure size 792x432 with 1 Axes>"
      ]
     },
     "metadata": {},
     "output_type": "display_data"
    }
   ],
   "source": [
    "# Plot curve \n",
    "plt.scatter(pp_clean.speed, pp_clean.power, label='actual', s=10)\n",
    "plt.plot(pp_clean.speed, poly_predict(pp_clean.speed), color='b', label='prediction')\n",
    "\n",
    "plt.title('Polynomial curve: Degree=9')\n",
    "plt.xlabel('speed(m/s)')\n",
    "plt.ylabel('power(kW)')\n",
    "plt.legend() "
   ]
  },
  {
   "cell_type": "markdown",
   "metadata": {},
   "source": [
    "It is clear from visualising the fitted curve that a polynomial regression builds a better predictive model than simple linear regression. We can calculate the R-squared value and compare it with those calculated above. We will need to import the `r2_score` function from the `sklearn.metrics` module for the polynomial model [23]. `scikit-learn` is a machine learning library for the Python programming language which includes numerous machine learning algorithms as well as various associated tools for evaluation, data preparation etc. [24]: "
   ]
  },
  {
   "cell_type": "code",
   "execution_count": 97,
   "metadata": {},
   "outputs": [
    {
     "name": "stdout",
     "output_type": "stream",
     "text": [
      "Polynomial R-squared:  0.9096394020311143\n"
     ]
    }
   ],
   "source": [
    "# Import r-squared function\n",
    "from sklearn.metrics import r2_score\n",
    "\n",
    "# print r-squared value\n",
    "print('Polynomial R-squared: ', r2_score(pp_clean.power, poly_predict(pp_clean.speed))) "
   ]
  },
  {
   "cell_type": "markdown",
   "metadata": {},
   "source": [
    "The polynomial regression model yields an R-squared value of **~0.99**. This indicates that it is more accurate than the simple linear regression model created above, which had an R-squared value of **0.90**. "
   ]
  },
  {
   "cell_type": "markdown",
   "metadata": {},
   "source": [
    "<br>\n",
    "\n",
    "##### end section"
   ]
  },
  {
   "cell_type": "markdown",
   "metadata": {},
   "source": [
    "<br>\n",
    "\n"
   ]
  },
  {
   "cell_type": "markdown",
   "metadata": {},
   "source": [
    "## 4. Train-test split\n",
    "\n",
    "***\n",
    "\n",
    "Until now, I have used the entire data set to train and test each of the predictive models above. When evaluating the models, the coefficient of determination was calculated. As noted, this is a statistical method which gives us a good indication as to their performance. The polynomial regression model yielded an R-squared score of **~0.99**. Given that the maximum score is 1, we might conclude that it is almost 100% accurate. However, having used the same data to train and test the model, the evaluation cannot be considered to have been truly unbiased. \n",
    "\n",
    "To minimise the potential for bias in building a supervised machine learning model, it is common practice to use the *train-test-split procedure*. This involves splitting the data into *train* and *test* subsets. As the names suggest, the train subset is used to train the model while the test subset is held back and used to test the model. It is quite a straight forward idea: the trained model is tested using data which it has not seen before. Given the random nature of real-world data, this makes intuitive sense as the goal of any predictive model is to make accurate predictions based on new input data. [25]\n",
    "\n",
    "#### 4.1 `train_test_split()` with `scikit_learn`\n",
    "\n",
    "`scikit-learn` provides the `train_test_split()` function which allows us to easily perform the procedure. The main configuration parameter is the *test_size* (or *train_size*) parameter, which enables us specify the size of the subsets into which we split the data [26]. Common split percentages are:\n",
    "* 80% Train; 20% Test\n",
    "* 67% Train; 33% Test\n",
    "* 50% Train; 50% Test [27]\n",
    "\n",
    "The data points for each subset are randomly allocated. Each time the function is called, the subsets will be populated with different combinations of observations. It is common practice to set the *random_state* parameter to some integer value. This sets a seed, thereby generating subsets with the same data each time the code is run. This is useful when comparing models as we know the data being used to train and test separate models is the exact same. Below, I call the function, dividing the data using a 50-50 split and setting the *random_state* parameter to 0. I output the length of each subset to verify the percentage split:"
   ]
  },
  {
   "cell_type": "code",
   "execution_count": 46,
   "metadata": {},
   "outputs": [
    {
     "data": {
      "text/plain": [
       "(243, 243, 243, 243)"
      ]
     },
     "execution_count": 46,
     "metadata": {},
     "output_type": "execute_result"
    }
   ],
   "source": [
    "# Import function from model_selection module\n",
    "from sklearn.model_selection import train_test_split\n",
    "\n",
    "# Call train_test_split function with test size = 50%\n",
    "x_train, x_test, y_train, y_test = train_test_split(pp_clean.speed, pp_clean.power, test_size=.5, random_state=10)\n",
    "\n",
    "# Length of each subset\n",
    "len(x_train), len(x_test), len(y_train), len(y_test)"
   ]
  },
  {
   "cell_type": "markdown",
   "metadata": {},
   "source": [
    "Now, we can use the same code above to train new models with the training data. These models will then be tested using the testing data. First, I use the simple linear regression model from above:"
   ]
  },
  {
   "cell_type": "code",
   "execution_count": 62,
   "metadata": {},
   "outputs": [],
   "source": [
    "# Call polyfit passing training data as parameters\n",
    "coeffs3 = np.polyfit(x_train, y_train, 1)\n",
    "\n",
    "# Pass coeffs to the poly1d function\n",
    "predict3 = np.poly1d(coeffs3)\n",
    "\n",
    "# Predict power from test data\n",
    "predictions = predict3(x_test)"
   ]
  },
  {
   "cell_type": "code",
   "execution_count": 63,
   "metadata": {},
   "outputs": [
    {
     "name": "stdout",
     "output_type": "stream",
     "text": [
      "R-squared:  0.8983421655604639\n"
     ]
    }
   ],
   "source": [
    "# print r-squared value\n",
    "print('R-squared: ', r2_score(y_test, predictions))"
   ]
  },
  {
   "cell_type": "markdown",
   "metadata": {},
   "source": [
    "Using the train_test_split procedure, we see a slight reduction in the R-squared score (0.89 vs 0.90). This reduction is to be expected, since the model is predicting power output based on speed values it has not seen before.\n",
    "\n",
    "If we apply the procedure to the polynomial regression model we again see a lowering of the R-squared score (0.9901 vs 0.9905)"
   ]
  },
  {
   "cell_type": "code",
   "execution_count": 61,
   "metadata": {},
   "outputs": [
    {
     "name": "stdout",
     "output_type": "stream",
     "text": [
      "R-squared:  0.9901187950550919\n"
     ]
    }
   ],
   "source": [
    "# Call polyfit with degree = 9\n",
    "poly_coeffs3 = np.polyfit(x_train, y_train, deg=9)\n",
    "\n",
    "# Use poly1d to estimate unknown values\n",
    "poly_predict3 = np.poly1d(poly_coeffs3)\n",
    "\n",
    "# \n",
    "poly_predictions = poly_predict3(x_test)\n",
    "\n",
    "print('R-squared: ', r2_score(y_test, poly_predictions)) "
   ]
  },
  {
   "cell_type": "code",
   "execution_count": null,
   "metadata": {},
   "outputs": [],
   "source": []
  },
  {
   "cell_type": "code",
   "execution_count": null,
   "metadata": {},
   "outputs": [],
   "source": []
  },
  {
   "cell_type": "code",
   "execution_count": null,
   "metadata": {},
   "outputs": [],
   "source": []
  },
  {
   "cell_type": "code",
   "execution_count": null,
   "metadata": {},
   "outputs": [],
   "source": []
  },
  {
   "cell_type": "code",
   "execution_count": null,
   "metadata": {},
   "outputs": [],
   "source": []
  },
  {
   "cell_type": "code",
   "execution_count": null,
   "metadata": {},
   "outputs": [],
   "source": []
  },
  {
   "cell_type": "code",
   "execution_count": null,
   "metadata": {},
   "outputs": [],
   "source": []
  },
  {
   "cell_type": "code",
   "execution_count": null,
   "metadata": {},
   "outputs": [],
   "source": []
  },
  {
   "cell_type": "code",
   "execution_count": 33,
   "metadata": {},
   "outputs": [],
   "source": [
    "'''\n",
    "function to find random seed which produces the highest r-squared value\n",
    "'''\n",
    "def best_seed():\n",
    "    scores = []\n",
    "    for i in range(10000):\n",
    "        X_Train, X_Test, Y_Train, Y_Test = train_test_split(X, Y, test_size = 0.1, random_state=i)\n",
    "        reg.fit(X_Train, Y_Train)\n",
    "        scores.append(reg.score(X_Test, Y_Test))\n",
    "    return scores        "
   ]
  },
  {
   "cell_type": "code",
   "execution_count": 34,
   "metadata": {},
   "outputs": [
    {
     "ename": "NameError",
     "evalue": "name 'X' is not defined",
     "output_type": "error",
     "traceback": [
      "\u001b[1;31m---------------------------------------------------------------------------\u001b[0m",
      "\u001b[1;31mNameError\u001b[0m                                 Traceback (most recent call last)",
      "\u001b[1;32m<ipython-input-34-a2a5b19eeefc>\u001b[0m in \u001b[0;36m<module>\u001b[1;34m\u001b[0m\n\u001b[1;32m----> 1\u001b[1;33m \u001b[0mscores\u001b[0m \u001b[1;33m=\u001b[0m \u001b[0mbest_seed\u001b[0m\u001b[1;33m(\u001b[0m\u001b[1;33m)\u001b[0m\u001b[1;33m\u001b[0m\u001b[1;33m\u001b[0m\u001b[0m\n\u001b[0m",
      "\u001b[1;32m<ipython-input-33-e1bae95029d6>\u001b[0m in \u001b[0;36mbest_seed\u001b[1;34m()\u001b[0m\n\u001b[0;32m      5\u001b[0m     \u001b[0mscores\u001b[0m \u001b[1;33m=\u001b[0m \u001b[1;33m[\u001b[0m\u001b[1;33m]\u001b[0m\u001b[1;33m\u001b[0m\u001b[1;33m\u001b[0m\u001b[0m\n\u001b[0;32m      6\u001b[0m     \u001b[1;32mfor\u001b[0m \u001b[0mi\u001b[0m \u001b[1;32min\u001b[0m \u001b[0mrange\u001b[0m\u001b[1;33m(\u001b[0m\u001b[1;36m10000\u001b[0m\u001b[1;33m)\u001b[0m\u001b[1;33m:\u001b[0m\u001b[1;33m\u001b[0m\u001b[1;33m\u001b[0m\u001b[0m\n\u001b[1;32m----> 7\u001b[1;33m         \u001b[0mX_Train\u001b[0m\u001b[1;33m,\u001b[0m \u001b[0mX_Test\u001b[0m\u001b[1;33m,\u001b[0m \u001b[0mY_Train\u001b[0m\u001b[1;33m,\u001b[0m \u001b[0mY_Test\u001b[0m \u001b[1;33m=\u001b[0m \u001b[0mtrain_test_split\u001b[0m\u001b[1;33m(\u001b[0m\u001b[0mX\u001b[0m\u001b[1;33m,\u001b[0m \u001b[0mY\u001b[0m\u001b[1;33m,\u001b[0m \u001b[0mtest_size\u001b[0m \u001b[1;33m=\u001b[0m \u001b[1;36m0.1\u001b[0m\u001b[1;33m,\u001b[0m \u001b[0mrandom_state\u001b[0m\u001b[1;33m=\u001b[0m\u001b[0mi\u001b[0m\u001b[1;33m)\u001b[0m\u001b[1;33m\u001b[0m\u001b[1;33m\u001b[0m\u001b[0m\n\u001b[0m\u001b[0;32m      8\u001b[0m         \u001b[0mreg\u001b[0m\u001b[1;33m.\u001b[0m\u001b[0mfit\u001b[0m\u001b[1;33m(\u001b[0m\u001b[0mX_Train\u001b[0m\u001b[1;33m,\u001b[0m \u001b[0mY_Train\u001b[0m\u001b[1;33m)\u001b[0m\u001b[1;33m\u001b[0m\u001b[1;33m\u001b[0m\u001b[0m\n\u001b[0;32m      9\u001b[0m         \u001b[0mscores\u001b[0m\u001b[1;33m.\u001b[0m\u001b[0mappend\u001b[0m\u001b[1;33m(\u001b[0m\u001b[0mreg\u001b[0m\u001b[1;33m.\u001b[0m\u001b[0mscore\u001b[0m\u001b[1;33m(\u001b[0m\u001b[0mX_Test\u001b[0m\u001b[1;33m,\u001b[0m \u001b[0mY_Test\u001b[0m\u001b[1;33m)\u001b[0m\u001b[1;33m)\u001b[0m\u001b[1;33m\u001b[0m\u001b[1;33m\u001b[0m\u001b[0m\n",
      "\u001b[1;31mNameError\u001b[0m: name 'X' is not defined"
     ]
    }
   ],
   "source": [
    "scores = best_seed()"
   ]
  },
  {
   "cell_type": "code",
   "execution_count": null,
   "metadata": {},
   "outputs": [],
   "source": [
    "min(scores)"
   ]
  },
  {
   "cell_type": "code",
   "execution_count": null,
   "metadata": {},
   "outputs": [],
   "source": [
    "max(scores)"
   ]
  },
  {
   "cell_type": "code",
   "execution_count": null,
   "metadata": {},
   "outputs": [],
   "source": [
    "scores.index(0.9306242340561958)"
   ]
  },
  {
   "cell_type": "code",
   "execution_count": null,
   "metadata": {},
   "outputs": [],
   "source": []
  },
  {
   "cell_type": "code",
   "execution_count": null,
   "metadata": {},
   "outputs": [],
   "source": []
  },
  {
   "cell_type": "code",
   "execution_count": null,
   "metadata": {},
   "outputs": [],
   "source": []
  },
  {
   "cell_type": "code",
   "execution_count": null,
   "metadata": {},
   "outputs": [],
   "source": []
  },
  {
   "cell_type": "code",
   "execution_count": null,
   "metadata": {},
   "outputs": [],
   "source": []
  },
  {
   "cell_type": "code",
   "execution_count": null,
   "metadata": {},
   "outputs": [],
   "source": []
  },
  {
   "cell_type": "code",
   "execution_count": null,
   "metadata": {},
   "outputs": [],
   "source": []
  },
  {
   "cell_type": "code",
   "execution_count": null,
   "metadata": {},
   "outputs": [],
   "source": []
  },
  {
   "cell_type": "code",
   "execution_count": null,
   "metadata": {},
   "outputs": [],
   "source": []
  },
  {
   "cell_type": "markdown",
   "metadata": {},
   "source": [
    "### References\n",
    "\n",
    "[1] w3schools.com; Numpy Introduction; https://www.w3schools.com/python/numpy_intro.asp <br>\n",
    "[2] w3schools.com; Pandas Tutorial https://www.w3schools.com/python/pandas_tutorial.asp <br>\n",
    "[3] w3schools.com; Matplotlib Pyplot; https://www.w3schools.com/python/matplotlib_pyplot.asp <br>\n",
    "[1] yale.edu; Linear Regression; http://www.stat.yale.edu/Courses/1997-98/101/linreg.htm <br>\n",
    "[2] yale.edu; Correlation; http://www.stat.yale.edu/Courses/1997-98/101/correl.htm <br>\n",
    "[3] youtube.com; Wind Turbine Power Curve description; https://www.youtube.com/watch?v=8tNOL4ZL9Do <br>\n",
    "[4] statisticshowto.com; Linear Regression: Simple Steps, Video. Find Equation, Coefficient, Slope; https://www.statisticshowto.com/probability-and-statistics/regression-analysis/find-a-linear-regression-equation/ <br>\n",
    "[1] Wikipedia; Regression analysis; https://en.wikipedia.org/wiki/Regression_analysis<br>\n",
    "[2] Malil, F; How Good is My Predictive Model - Regression Analysis; https://medium.com/fintechexplained/part-3-regression-analysis-bcfe15a12866 <br>\n",
    "[3] Frost, J; Choosing the Correct Type of Regression Analysis; https://statisticsbyjim.com/regression/choosing-regression-analysis/ <br>\n",
    "[4] Brownlee, J; How to Calculate Correlation Between Variables in Python https://machinelearningmastery.com/how-to-use-correlation-to-understand-the-relationship-between-variables/ <br>\n",
    "[5] Raschka, S.; https://github.com/rasbt/pattern_classification/blob/master/resources/latex_equations.md#correlation---pearson <br>\n",
    "[6] kite.com; How to calculate R squared with NumPy in Python; https://www.kite.com/python/answers/how-to-calculate-r-squared-with-numpy-in-python <br>\n",
    "[7] andrews.edu; Correlation Coefficients; https://www.andrews.edu/~calkins/math/edrm611/edrm05.htm <br>\n",
    "[8] Mester, T.; Linear Regression in Python using numpy + polyfit (with code base); https://data36.com/linear-regression-in-python-numpy-polyfit/ <br>\n",
    "[9] numpy.org; numpy.polyfit; https://numpy.org/doc/stable/reference/generated/numpy.polyfit.html <br>\n",
    "[10] Mester, T.; Linear Regression in Python using numpy + polyfit (with code base); https://data36.com/linear-regression-in-python-numpy-polyfit/ <br>\n",
    "[11] datatechnotes.com; Regression Model Accuracy (MAE, MSE, RMSE, R-squared) Check in R; https://www.datatechnotes.com/2019/02/regression-model-accuracy-mae-mse-rmse.html <br>\n",
    "[12] Frost, J; How To Interpret R-squared in Regression Analysis; https://statisticsbyjim.com/regression/interpret-r-squared-regression/ <br>\n",
    "[13] datatechnotes.com; Regression Model Accuracy (MAE, MSE, RMSE, R-squared) Check in R; https://www.datatechnotes.com/2019/02/regression-model-accuracy-mae-mse-rmse.html <br>\n",
    "[14] Frost, J; How To Interpret R-squared in Regression Analysis; https://statisticsbyjim.com/regression/interpret-r-squared-regression/ <br>\n",
    "[15] Brownlee, J; How to Remove Outliers for Machine Learning; https://machinelearningmastery.com/how-to-use-statistics-to-identify-outliers-in-data/ <br>\n",
    "[16] Detecting And Treating Outliers In Python — Part 2; https://towardsdatascience.com/detecting-and-treating-outliers-in-python-part-2-3a3319ec2c33 <br>\n",
    "[17] Pei, S. and Li, P., 2019; Wind Turbine Power Curve Modeling with a Hybrid Machine Learning Technique; https://www.researchgate.net/publication/337325612_Wind_Turbine_Power_Curve_Modeling_with_a_Hybrid_Machine_Learning_Technique <br>\n",
    "[18] Detecting And Treating Outliers In Python — Part 2; https://towardsdatascience.com/detecting-and-treating-outliers-in-python-part-2-3a3319ec2c33 <br>\n",
    "[19] Brownlee, J; How to Remove Outliers for Machine Learning; https://machinelearningmastery.com/how-to-use-statistics-to-identify-outliers-in-data/ <br>\n",
    "[20] pandas.pydata.org; pandas.DataFrame.truncate; https://pandas.pydata.org/pandas-docs/stable/reference/api/pandas.DataFrame.truncate.html <br>\n",
    "[20] McLouglin, I.; https://github.com/ianmcloughlin/jupyter-teaching-notebooks/blob/master/fitting-lines.ipynb <br>\n",
    "[21] Brownlee, J.; Curve Fitting With Python; https://machinelearningmastery.com/curve-fitting-with-python/ <br>\n",
    "[22] drque.net; Polynomial Regression; http://polynomialregression.drque.net/math.html <br>\n",
    "[23] data36.com; Linear Regression in Python using numpy + polyfit (with code base); https://data36.com/linear-regression-in-python-numpy-polyfit/ <br>\n",
    "[24] scikit-learn.org; https://scikit-learn.org/stable/ <br>\n",
    "[25] Split Your Dataset With scikit-learn's train_test_split(); https://realpython.com/train-test-split-python-data/ <br>\n",
    "[26] Brownlee, J; Train-Test Split for Evaluating Machine Learning Algorithms; https://machinelearningmastery.com/train-test-split-for-evaluating-machine-learning-algorithms/ <br>\n",
    "[27] *Ibid* <br>"
   ]
  },
  {
   "cell_type": "code",
   "execution_count": null,
   "metadata": {},
   "outputs": [],
   "source": []
  }
 ],
 "metadata": {
  "kernelspec": {
   "display_name": "Python 3",
   "language": "python",
   "name": "python3"
  },
  "language_info": {
   "codemirror_mode": {
    "name": "ipython",
    "version": 3
   },
   "file_extension": ".py",
   "mimetype": "text/x-python",
   "name": "python",
   "nbconvert_exporter": "python",
   "pygments_lexer": "ipython3",
   "version": "3.8.5"
  }
 },
 "nbformat": 4,
 "nbformat_minor": 4
}
