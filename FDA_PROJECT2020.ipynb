{
 "cells": [
  {
   "cell_type": "markdown",
   "metadata": {},
   "source": [
    "# Project 2020 - Fundamentals of Data Analysis\n",
    "This project performs and explains simple linear regression using the Python programming language. Using the *powerproduction* dataset, it sets out to accurately predict wind turbine power output from wind speed values\n",
    "\n",
    "***\n",
    "\n",
    "<br>\n",
    "\n"
   ]
  },
  {
   "cell_type": "markdown",
   "metadata": {},
   "source": [
    "## Introduction\n",
    "\n",
    "***\n",
    "\n",
    "This project has two distinct but related aims:\n",
    "\n",
    "* To perform and explain simple linear regression using the Python programming language on the *powerproduction data set*;\n",
    "* To accurately predict wind turbine power from wind speed values. <br>\n",
    "\n",
    "In the process of explaining and performing simple linear regression on the data set, it is evident that it is not the regression model which most accurately predicts turbine power output. As a result, polynomial regression is used to build a more accurate predictive model. \n",
    "\n",
    "Throughout the project, the following *data preparation* and *model evaluation* topics are covered:\n",
    "* Outliers;\n",
    "* Train-test split procedure;\n",
    "* R-squared value;"
   ]
  },
  {
   "cell_type": "markdown",
   "metadata": {},
   "source": [
    "<br>\n",
    "\n"
   ]
  },
  {
   "cell_type": "markdown",
   "metadata": {},
   "source": [
    "## 1. Data overview\n",
    "\n",
    "***"
   ]
  },
  {
   "cell_type": "markdown",
   "metadata": {},
   "source": [
    "#### 1.1 Module imports\n",
    "\n",
    "First, the necessary modules and packages are imported:\n",
    "\n",
    "* `numpy` is a python library which allows us to work with arrays, more suited to data analysis than traditional python `lists` [1] \n",
    "* `pandas` is suited to working with data sets and provides the DataFrame structure to make this more effective and efficient [2]. \n",
    "* `matplotlib.pyplot` is used for visualisation. It is a graph plotting library on which many visualisation packages are built in python. The `pyplot` submodule contains most of matplotlib's utilities [3]\n",
    "\n",
    "The plot style and size is also set with the appropriate parameters"
   ]
  },
  {
   "cell_type": "code",
   "execution_count": 28,
   "metadata": {},
   "outputs": [],
   "source": [
    "# For arrays\n",
    "import numpy as np\n",
    "\n",
    "# For dataframes\n",
    "import pandas as pd\n",
    "\n",
    "# For plotting\n",
    "import matplotlib.pyplot as plt\n",
    "\n",
    "\n",
    "import seaborn as sns\n",
    "from sklearn.linear_model import LinearRegression"
   ]
  },
  {
   "cell_type": "code",
   "execution_count": 29,
   "metadata": {},
   "outputs": [],
   "source": [
    "# Plot style\n",
    "plt.style.use('ggplot')\n",
    "\n",
    "# Plot size\n",
    "plt.rcParams['figure.figsize'] = [11, 6]"
   ]
  },
  {
   "cell_type": "markdown",
   "metadata": {},
   "source": [
    "<br>\n",
    "\n"
   ]
  },
  {
   "cell_type": "markdown",
   "metadata": {},
   "source": [
    "Read in powerproduction.csv  "
   ]
  },
  {
   "cell_type": "code",
   "execution_count": 3,
   "metadata": {},
   "outputs": [
    {
     "data": {
      "text/html": [
       "<div>\n",
       "<style scoped>\n",
       "    .dataframe tbody tr th:only-of-type {\n",
       "        vertical-align: middle;\n",
       "    }\n",
       "\n",
       "    .dataframe tbody tr th {\n",
       "        vertical-align: top;\n",
       "    }\n",
       "\n",
       "    .dataframe thead th {\n",
       "        text-align: right;\n",
       "    }\n",
       "</style>\n",
       "<table border=\"1\" class=\"dataframe\">\n",
       "  <thead>\n",
       "    <tr style=\"text-align: right;\">\n",
       "      <th></th>\n",
       "      <th>speed</th>\n",
       "      <th>power</th>\n",
       "    </tr>\n",
       "  </thead>\n",
       "  <tbody>\n",
       "    <tr>\n",
       "      <th>0</th>\n",
       "      <td>0.000</td>\n",
       "      <td>0.0</td>\n",
       "    </tr>\n",
       "    <tr>\n",
       "      <th>1</th>\n",
       "      <td>0.125</td>\n",
       "      <td>0.0</td>\n",
       "    </tr>\n",
       "    <tr>\n",
       "      <th>2</th>\n",
       "      <td>0.150</td>\n",
       "      <td>0.0</td>\n",
       "    </tr>\n",
       "    <tr>\n",
       "      <th>3</th>\n",
       "      <td>0.225</td>\n",
       "      <td>0.0</td>\n",
       "    </tr>\n",
       "    <tr>\n",
       "      <th>4</th>\n",
       "      <td>0.275</td>\n",
       "      <td>0.0</td>\n",
       "    </tr>\n",
       "  </tbody>\n",
       "</table>\n",
       "</div>"
      ],
      "text/plain": [
       "   speed  power\n",
       "0  0.000    0.0\n",
       "1  0.125    0.0\n",
       "2  0.150    0.0\n",
       "3  0.225    0.0\n",
       "4  0.275    0.0"
      ]
     },
     "execution_count": 3,
     "metadata": {},
     "output_type": "execute_result"
    }
   ],
   "source": [
    "pp = pd.read_csv(\"powerproduction.csv\")\n",
    "pp.head()"
   ]
  },
  {
   "cell_type": "markdown",
   "metadata": {},
   "source": [
    "<br>\n",
    "\n"
   ]
  },
  {
   "cell_type": "markdown",
   "metadata": {},
   "source": [
    "The describe() method gives us a summary overview of the dataset, including the mean, standard deviation and quartile distribution of both variables"
   ]
  },
  {
   "cell_type": "code",
   "execution_count": 4,
   "metadata": {},
   "outputs": [
    {
     "data": {
      "text/html": [
       "<div>\n",
       "<style scoped>\n",
       "    .dataframe tbody tr th:only-of-type {\n",
       "        vertical-align: middle;\n",
       "    }\n",
       "\n",
       "    .dataframe tbody tr th {\n",
       "        vertical-align: top;\n",
       "    }\n",
       "\n",
       "    .dataframe thead th {\n",
       "        text-align: right;\n",
       "    }\n",
       "</style>\n",
       "<table border=\"1\" class=\"dataframe\">\n",
       "  <thead>\n",
       "    <tr style=\"text-align: right;\">\n",
       "      <th></th>\n",
       "      <th>speed</th>\n",
       "      <th>power</th>\n",
       "    </tr>\n",
       "  </thead>\n",
       "  <tbody>\n",
       "    <tr>\n",
       "      <th>count</th>\n",
       "      <td>500.000000</td>\n",
       "      <td>500.000000</td>\n",
       "    </tr>\n",
       "    <tr>\n",
       "      <th>mean</th>\n",
       "      <td>12.590398</td>\n",
       "      <td>48.014584</td>\n",
       "    </tr>\n",
       "    <tr>\n",
       "      <th>std</th>\n",
       "      <td>7.224991</td>\n",
       "      <td>41.614572</td>\n",
       "    </tr>\n",
       "    <tr>\n",
       "      <th>min</th>\n",
       "      <td>0.000000</td>\n",
       "      <td>0.000000</td>\n",
       "    </tr>\n",
       "    <tr>\n",
       "      <th>25%</th>\n",
       "      <td>6.324750</td>\n",
       "      <td>5.288000</td>\n",
       "    </tr>\n",
       "    <tr>\n",
       "      <th>50%</th>\n",
       "      <td>12.550500</td>\n",
       "      <td>41.645500</td>\n",
       "    </tr>\n",
       "    <tr>\n",
       "      <th>75%</th>\n",
       "      <td>18.775250</td>\n",
       "      <td>93.537000</td>\n",
       "    </tr>\n",
       "    <tr>\n",
       "      <th>max</th>\n",
       "      <td>25.000000</td>\n",
       "      <td>113.556000</td>\n",
       "    </tr>\n",
       "  </tbody>\n",
       "</table>\n",
       "</div>"
      ],
      "text/plain": [
       "            speed       power\n",
       "count  500.000000  500.000000\n",
       "mean    12.590398   48.014584\n",
       "std      7.224991   41.614572\n",
       "min      0.000000    0.000000\n",
       "25%      6.324750    5.288000\n",
       "50%     12.550500   41.645500\n",
       "75%     18.775250   93.537000\n",
       "max     25.000000  113.556000"
      ]
     },
     "execution_count": 4,
     "metadata": {},
     "output_type": "execute_result"
    }
   ],
   "source": [
    "pp.describe()"
   ]
  },
  {
   "cell_type": "markdown",
   "metadata": {},
   "source": [
    "<br>\n",
    "\n"
   ]
  },
  {
   "cell_type": "markdown",
   "metadata": {},
   "source": [
    "#### 1.2 Visualisation and preliminary analysis\n",
    "\n",
    "Next, the variables are plotted on a scatterplot. Scatterplots allows us to visualise the relationship between two variables in a dataset. Through visualisation, we can get a preliminary indication as to what predictive model might be best suited. This can be inferred from the shape of the relationship between the variables. It can also give us additional information, such as the presence of outliers."
   ]
  },
  {
   "cell_type": "code",
   "execution_count": 30,
   "metadata": {},
   "outputs": [
    {
     "data": {
      "text/plain": [
       "Text(0, 0.5, 'power (kW)')"
      ]
     },
     "execution_count": 30,
     "metadata": {},
     "output_type": "execute_result"
    },
    {
     "data": {
      "image/png": "[encoded data removed]",
      "text/plain": [
       "<Figure size 792x432 with 1 Axes>"
      ]
     },
     "metadata": {},
     "output_type": "display_data"
    }
   ],
   "source": [
    "# Generate scatter plot of speed and power data points\n",
    "plt.scatter(pp.speed,pp.power,color='red',marker='+', s=10)\n",
    "\n",
    "plt.title('Powerproduction data set')\n",
    "plt.xlabel('speed (m/s)')\n",
    "plt.ylabel('power (kW)')"
   ]
  },
  {
   "cell_type": "markdown",
   "metadata": {},
   "source": [
    "We can see clearly that there is a strong relationship between both variables. It is important to establish a relationship *before* attempting to fit a linear model to observed data [1]. Often, as above, this can be see through data visualisation. However we can also use statistical methods to determine the relationship. A commonly used numerical measure in this regard is the *correlation coefficient*, which quantifies the association between two variables [2]. Also known as the *r* value, this will be examined in greater detail below.\n",
    "\n",
    "##### Wind Turbine Power Curve\n",
    "Looking more closely at the plot, we see that it produces a visualisation of the typical wind turbine power curve. The *cut-in* wind speed is at ~7m/s, below which the turbine is producing hardly any power. Between speeds of ~7 and ~17m/s the power ramps up to what is known as the *rated power capacity*. From speeds of ~17m/s the power generated remains more or less constant, right up to ~25m/s, or the *cut-out* wind speed. While there is much potential power in the wind speed above the cut-out speed, the cost of making the turbine capable of producing power under these conditions outweights the benefits of more power being generated [3]. <br>\n",
    "\n",
    "##### Outliers\n",
    "What is also notable from the plot is the presence of seeming outliers in the data. Broadly speaking, an outlier is a data point that is extremely high or extremely low [4]. They can impact the performace of a predictive model, misrepresenting the the data used to train and test the model. There are a number of observations where no power (0kW) is being generated despite sufficiently high wind speeds. We will take a closer look at these outliers below. \n",
    "\n",
    "##### Predictive model\n",
    "From initial visualisation, we may deduce that a line (or curve) would closely fit the data. This implies that a linear regression model could be used to make power output predictions. As specified in the project brief, simple linear regression will be explained and performed on the *powerproduction* data set. A simple linear regression model has only one *predictor* i.e. a single independent variable (the *speed* variable in the context of the current project). It involves fitting a straight line to the data. However a curved line may yield more accurate results. This will also be exaimed further below."
   ]
  },
  {
   "cell_type": "markdown",
   "metadata": {},
   "source": [
    "<br>\n",
    "\n",
    "##### end section"
   ]
  },
  {
   "cell_type": "markdown",
   "metadata": {},
   "source": [
    "<br>\n",
    "\n"
   ]
  },
  {
   "cell_type": "markdown",
   "metadata": {},
   "source": [
    "## 2. Simple linear regression\n",
    "\n",
    "***"
   ]
  },
  {
   "cell_type": "markdown",
   "metadata": {},
   "source": [
    "#### 2.1 Regression Analysis\n",
    "\n",
    "Regression analysis is a statistical method which describes the relationship between a *dependent* variable and one or more *independent* variables [1]. It can be used to infer the nature of the relationship and consequently, can enable us to make predictions based on a known independent variable or establish causation relationships between variables. In machine learning, it is used primarily to build predictive models [2] and it is this use which will be investigated below.\n",
    "<br>\n",
    "\n",
    "\n",
    "##### Simple linear regression\n",
    "There are numerous types of regression analysis and choosing the most appropriate one depends on various factors, such as the nature of the data, the information the researcher is seeking to extract among others [3]. A simple linear regression model is applied to a *bivariate* data set - where one of the variables is the *predictor*, or independent variable and the other is known as the *response*, or dependent variable. The *powerproduction* data set meets this criterion with *wind speed* the predictor and *power output* the response. "
   ]
  },
  {
   "cell_type": "markdown",
   "metadata": {},
   "source": [
    "#### 2.2 Correlation coefficient\n",
    "\n",
    "As we saw above on the plot, there is visible positive relationship between speed and power in the data set. We can measure the *strength* of this relationship by calculating the correlation coefficient (also known as the *Pearson's correlation coefficient*) [4]. Using a statistical method to quantify the relationship strength makes our visual interpretation more robust. The mathematical formula is commonly expressed as [5]:\n",
    "\n",
    "$$r = \\frac{{}\\sum_{i=1}^{n} (x_i - \\overline{x})(y_i - \\overline{y})}\n",
    "{\\sqrt{\\sum_{i=1}^{n} (x_i - \\overline{x})^2(y_i - \\overline{y})^2}}$$\n",
    "\n",
    "Below, I use `numpy.corrcoef()` to generate a correlation coefficient matrix between *speed* and *power*. I slice the resulting array to get the correlation coefficient. I use code found on kite.com [6]"
   ]
  },
  {
   "cell_type": "code",
   "execution_count": 6,
   "metadata": {},
   "outputs": [
    {
     "name": "stdout",
     "output_type": "stream",
     "text": [
      "Correlation coefficient:  0.8537775037188597\n"
     ]
    }
   ],
   "source": [
    "# Generate correlation matrix\n",
    "correlation_matrix = np.corrcoef(pp.speed, pp.power)\n",
    "\n",
    "# Slice array to get correlation coefficient\n",
    "correlation_xy = correlation_matrix[0, 1]\n",
    "\n",
    "# Print value to screen\n",
    "print('Correlation coefficient: ', correlation_xy)"
   ]
  },
  {
   "cell_type": "markdown",
   "metadata": {},
   "source": [
    "A value of 0.85 indicates a strong, positive relationship between speed and power: \"Correlation coefficients whose magnitude are between 0.7 and 0.9 indicate variables which can be considered **highly correlated**.\" [7] \n",
    "\n",
    "<br>"
   ]
  },
  {
   "cell_type": "markdown",
   "metadata": {},
   "source": [
    "#### 2.3 Best fitting line\n",
    "The next step in building our simple linear regression model is to determine the best fitting line for the data. As with the *correlation coefficient* above, we can visualise the data and approximate a line which best captures the data. `numpy.polyfit()` uses a more robust, mathematical method to determine the line of best fit. This is called the *ordinary least squares method*. It is among the \"... most commonly used estimation methods for linear regression\" [8] can be expressed mathematically as: <br> $$\\Sigma_i(y_i - mx_i - c)$$ <br>\n",
    "\n",
    "where $m$ = the slope and $c$ = the y-intercept. The least squares method calculates the error between all the observed y values in the data set and the predicted y values. `polyfit()` returns the values for the coefficients $m$ and $c$ which minimize the result of the least squares method. Below, I pass the speed and power variables to the function. The third parameter is the degree of the fitting polynomial [9]. For simple linear regression, this will be 1 as a straight line is a first degree polynomial, expressed as $y = mx + c$:"
   ]
  },
  {
   "cell_type": "code",
   "execution_count": 7,
   "metadata": {},
   "outputs": [
    {
     "data": {
      "text/plain": [
       "array([  4.91759567, -13.89990263])"
      ]
     },
     "execution_count": 7,
     "metadata": {},
     "output_type": "execute_result"
    }
   ],
   "source": [
    "# Call polyfit passing speed and power as parameters\n",
    "coeffs = np.polyfit(pp.speed, pp.power, deg=1)\n",
    "\n",
    "# Output polynomial coefficients (slope and y-intercept)\n",
    "coeffs"
   ]
  },
  {
   "cell_type": "markdown",
   "metadata": {},
   "source": [
    "We can now plot the best fitting line over the data for visualisation. The polynomial coefficients represent the $m$ and $c$ values to generate the line:"
   ]
  },
  {
   "cell_type": "code",
   "execution_count": 8,
   "metadata": {},
   "outputs": [
    {
     "data": {
      "image/png": "[encoded data removed]",
      "text/plain": [
       "<Figure size 792x432 with 1 Axes>"
      ]
     },
     "metadata": {},
     "output_type": "display_data"
    }
   ],
   "source": [
    "# Plot data\n",
    "plt.plot(pp.speed, pp.power, '.', label=\"Data\")\n",
    "\n",
    "# Plot best fitting line\n",
    "plt.plot(pp.speed, coeffs[0] * pp.speed + coeffs[1], '-', label='Best fit')\n",
    "\n",
    "plt.title('Line of best fit')\n",
    "plt.xlabel('speed(m/s)')\n",
    "plt.ylabel('power(kW)')\n",
    "plt.legend();"
   ]
  },
  {
   "cell_type": "markdown",
   "metadata": {},
   "source": [
    "It is clear from this plot that the regression line does not fully capture all of the data. It over- and under-predicts at various points.\n",
    "\n",
    "<br>\n",
    "\n"
   ]
  },
  {
   "cell_type": "markdown",
   "metadata": {},
   "source": [
    "#### 2.4 Making predictions with the model\n",
    "\n",
    "Given that we now have values for the slope and intercept, we can plug speed values into the equation to predict corresponding values for power:"
   ]
  },
  {
   "cell_type": "code",
   "execution_count": 9,
   "metadata": {},
   "outputs": [
    {
     "name": "stdout",
     "output_type": "stream",
     "text": [
      "Predicted power value:  67.240425925\n"
     ]
    }
   ],
   "source": [
    "# Slope\n",
    "m = 4.91759567\n",
    "\n",
    "# Intercept\n",
    "c = -13.89990263\n",
    "\n",
    "# Pick arbitrary value for wind speed\n",
    "x = 16.5\n",
    "\n",
    "# Equation of fitted line\n",
    "y = m*x + c\n",
    "\n",
    "# Print value for y\n",
    "print('Predicted power value: ', y)"
   ]
  },
  {
   "cell_type": "markdown",
   "metadata": {},
   "source": [
    "The model predicts that power output for a wind speed of 16.5m/s would be ~67.24kW. If we check these values on our plot against the observed data, we can see that the power output of speeds of ~16.5m/s according to the observed data would be quite a bit higher. \n",
    "\n",
    "We can use `numpy`'s inbuilt `poly1d()` function to perform this same calculation [10]:"
   ]
  },
  {
   "cell_type": "code",
   "execution_count": 72,
   "metadata": {},
   "outputs": [
    {
     "data": {
      "text/plain": [
       "67.24042584865744"
      ]
     },
     "execution_count": 72,
     "metadata": {},
     "output_type": "execute_result"
    }
   ],
   "source": [
    "# Pass coeffs to the poly1d function\n",
    "predict = np.poly1d(coeffs)\n",
    "wind_speed = 16.5\n",
    "\n",
    "# Output predicted power \n",
    "predict(wind_speed)"
   ]
  },
  {
   "cell_type": "markdown",
   "metadata": {},
   "source": [
    "<br>\n",
    "\n"
   ]
  },
  {
   "cell_type": "markdown",
   "metadata": {},
   "source": [
    "#### 2.5 Model accuracy: R-squared\n",
    "\n",
    "There are various statistical methods we can use to calculate the accuracy of our model e.g. *MSE (mean squared error)*, *MAE (mean absolute error)*, *RMSE (root mean squared error)*. Below I will use the *R-squared* method. This is also known as the *coefficient of determination* [11]. We use R-squared to quantify how well the line fits the data. In this regard, we can say that it is a \"goodness of fit\" measurement [12]. The formula for R-squared can be expressed as follows: \n",
    "<br>\n",
    "\n",
    "$$ r^2 = 1 - \\frac{\\sum(y_i - \\hat{y})^2}{\\sum(y_i - \\bar{y})^2}$$ \n",
    "\n",
    "<br>\n",
    "\n",
    "where $\\hat{y}$ = the predicted value of $y$ and $\\bar{y}$ = the mean value of $y$ [13]. The R-squared value will always be between 0 and 1 and therefore can be expressed as a percentage. With this in mind, R-squared can be understood as the percentage of variation in the dependent variable that is explained by the variation in the independent variable. Generally speaking, the higher the R-squared value, the better the model fits the observed data. \n",
    "\n",
    "*It is worth pointing out that a high R-squared value does not always necessarily indicate a well-performing model e.g. in the case of overfitting a line to the data* [14].\n",
    "\n",
    "<br>\n",
    "\n",
    "##### Calculating R-squared\n",
    "R-squared is simply the correlation coefficient (or *R* value) squared. We calculated the R value above. Squaring this value, we get the R-squared value:"
   ]
  },
  {
   "cell_type": "code",
   "execution_count": 11,
   "metadata": {},
   "outputs": [
    {
     "name": "stdout",
     "output_type": "stream",
     "text": [
      "R-squared = 0.7289360258564076\n"
     ]
    }
   ],
   "source": [
    "# Square the correlation coefficient\n",
    "r_2 = correlation_xy**2\n",
    "\n",
    "print('R-squared =', r_2)"
   ]
  },
  {
   "cell_type": "markdown",
   "metadata": {},
   "source": [
    "~73% of the *total* variation in power output is explained by wind speed when we use our model to predict power output. "
   ]
  },
  {
   "cell_type": "markdown",
   "metadata": {},
   "source": [
    "<br>\n",
    "\n"
   ]
  },
  {
   "cell_type": "markdown",
   "metadata": {},
   "source": [
    "Given that the R-squared value is an measure of the accuracy of a model, I will next make some adjustments to try to increase it. First of all, let us take a look at the outliers in the data set.\n",
    "\n",
    "<br>\n",
    "\n",
    "#### 2.6 Outliers\n",
    "As noted above, the presence of outliers can result in a misrepresenation of the data when used to train a model. In linear regression models, it can have the effect of pulling the line towards them. It is not difficult to see how this may happen when we consider the *ordinary least squares* method (described above) used to calculate the best fitting line. From out plot we can see that there are a number of observations which might be considered outliers. We can use a statistical method as a more robust way of detecting outliers.\n",
    "\n",
    "##### Mahalonibis Distance\n",
    "\n",
    "In researching outlier detection, much of the online resources appear to deal with *univariate* outliers [15], [16]. Additionally, detection tools available as part of the `scikit-learn` library e.g. `LocalOutlierFactor`, (which uses the nearest neighbours algorithm to detect outliers in a sample) were not suited to the current project. For *multivariate* outliers, a common statistical method of dection is the *Mahalonibis Distance* measure, which is \"... widely used distance metric for the detection of multivariate outliers...\" [17]. Indeed it has been applied to wind turbine curve modeling by a number of studies (e.g. Pei and Li, 2019) [18]. \n",
    "\n",
    "The code for the function below was found on an informative blog post [19] and applies Mahalonibis Distance to the data set to detect outliers. It returns a list of index values for the rows containing outliers as detected by the method. I locate these rows using the `pandas.loc` method and remove them from the data set:"
   ]
  },
  {
   "cell_type": "code",
   "execution_count": 12,
   "metadata": {},
   "outputs": [],
   "source": [
    "import scipy as sp\n",
    "from scipy.stats import chi2\n",
    "from sklearn.covariance import MinCovDet\n",
    "\n",
    "# Set variable df to equal pp data set\n",
    "df = pp\n",
    "\n",
    "#Robust Mahalonibis Distance\n",
    "def robust_mahalanobis_method(df):\n",
    "    #Minimum covariance determinant\n",
    "    rng = np.random.RandomState(0)\n",
    "    real_cov = np.cov(df.values.T)\n",
    "    X = rng.multivariate_normal(mean=np.mean(df, axis=0), cov=real_cov, size=506)\n",
    "    cov = MinCovDet(random_state=0).fit(X)\n",
    "    mcd = cov.covariance_ #robust covariance metric\n",
    "    robust_mean = cov.location_  #robust mean\n",
    "    inv_covmat = sp.linalg.inv(mcd) #inverse covariance metric\n",
    "    \n",
    "    #Robust M-Distance\n",
    "    x_minus_mu = df - robust_mean\n",
    "    left_term = np.dot(x_minus_mu, inv_covmat)\n",
    "    mahal = np.dot(left_term, x_minus_mu.T)\n",
    "    md = np.sqrt(mahal.diagonal())\n",
    "    \n",
    "    #Flag as outlier\n",
    "    outlier = []\n",
    "    C = np.sqrt(chi2.ppf((1-0.001), df=df.shape[1]))#degrees of freedom = number of variables\n",
    "    for index, value in enumerate(md):\n",
    "        if value > C:\n",
    "            outlier.append(index)\n",
    "        else:\n",
    "            continue\n",
    "    return outlier, md\n",
    "\n",
    "outliers_mahal_rob, md_rb = robust_mahalanobis_method(df=df)"
   ]
  },
  {
   "cell_type": "code",
   "execution_count": 13,
   "metadata": {},
   "outputs": [
    {
     "data": {
      "text/html": [
       "<div>\n",
       "<style scoped>\n",
       "    .dataframe tbody tr th:only-of-type {\n",
       "        vertical-align: middle;\n",
       "    }\n",
       "\n",
       "    .dataframe tbody tr th {\n",
       "        vertical-align: top;\n",
       "    }\n",
       "\n",
       "    .dataframe thead th {\n",
       "        text-align: right;\n",
       "    }\n",
       "</style>\n",
       "<table border=\"1\" class=\"dataframe\">\n",
       "  <thead>\n",
       "    <tr style=\"text-align: right;\">\n",
       "      <th></th>\n",
       "      <th>speed</th>\n",
       "      <th>power</th>\n",
       "    </tr>\n",
       "  </thead>\n",
       "  <tbody>\n",
       "    <tr>\n",
       "      <th>340</th>\n",
       "      <td>17.167</td>\n",
       "      <td>0.0</td>\n",
       "    </tr>\n",
       "    <tr>\n",
       "      <th>404</th>\n",
       "      <td>20.095</td>\n",
       "      <td>0.0</td>\n",
       "    </tr>\n",
       "    <tr>\n",
       "      <th>456</th>\n",
       "      <td>22.998</td>\n",
       "      <td>0.0</td>\n",
       "    </tr>\n",
       "    <tr>\n",
       "      <th>490</th>\n",
       "      <td>24.499</td>\n",
       "      <td>0.0</td>\n",
       "    </tr>\n",
       "    <tr>\n",
       "      <th>491</th>\n",
       "      <td>24.525</td>\n",
       "      <td>0.0</td>\n",
       "    </tr>\n",
       "    <tr>\n",
       "      <th>492</th>\n",
       "      <td>24.575</td>\n",
       "      <td>0.0</td>\n",
       "    </tr>\n",
       "    <tr>\n",
       "      <th>493</th>\n",
       "      <td>24.650</td>\n",
       "      <td>0.0</td>\n",
       "    </tr>\n",
       "    <tr>\n",
       "      <th>494</th>\n",
       "      <td>24.750</td>\n",
       "      <td>0.0</td>\n",
       "    </tr>\n",
       "    <tr>\n",
       "      <th>495</th>\n",
       "      <td>24.775</td>\n",
       "      <td>0.0</td>\n",
       "    </tr>\n",
       "    <tr>\n",
       "      <th>496</th>\n",
       "      <td>24.850</td>\n",
       "      <td>0.0</td>\n",
       "    </tr>\n",
       "    <tr>\n",
       "      <th>497</th>\n",
       "      <td>24.875</td>\n",
       "      <td>0.0</td>\n",
       "    </tr>\n",
       "    <tr>\n",
       "      <th>498</th>\n",
       "      <td>24.950</td>\n",
       "      <td>0.0</td>\n",
       "    </tr>\n",
       "    <tr>\n",
       "      <th>499</th>\n",
       "      <td>25.000</td>\n",
       "      <td>0.0</td>\n",
       "    </tr>\n",
       "  </tbody>\n",
       "</table>\n",
       "</div>"
      ],
      "text/plain": [
       "      speed  power\n",
       "340  17.167    0.0\n",
       "404  20.095    0.0\n",
       "456  22.998    0.0\n",
       "490  24.499    0.0\n",
       "491  24.525    0.0\n",
       "492  24.575    0.0\n",
       "493  24.650    0.0\n",
       "494  24.750    0.0\n",
       "495  24.775    0.0\n",
       "496  24.850    0.0\n",
       "497  24.875    0.0\n",
       "498  24.950    0.0\n",
       "499  25.000    0.0"
      ]
     },
     "execution_count": 13,
     "metadata": {},
     "output_type": "execute_result"
    }
   ],
   "source": [
    "# Find rows containing outlier indices\n",
    "pp_outliers = pp.loc[ outliers_mahal_rob , : ]\n",
    "\n",
    "# Output dataframe of outliers\n",
    "pp_outliers"
   ]
  },
  {
   "cell_type": "markdown",
   "metadata": {},
   "source": [
    "##### Outlier removal\n",
    "\n",
    "Above is the data frame containing the outlier observations. All the outliers detected have a power value of 0kW. This is what was observed in the scatterplot. Below, I remove them from the data set, creating an updated data set `pp_updated` in the process:"
   ]
  },
  {
   "cell_type": "code",
   "execution_count": 51,
   "metadata": {},
   "outputs": [],
   "source": [
    "# Remove outliers from data set\n",
    "pp_updated = pp.drop(outliers_mahal_rob)"
   ]
  },
  {
   "cell_type": "code",
   "execution_count": 52,
   "metadata": {},
   "outputs": [
    {
     "data": {
      "text/html": [
       "<div>\n",
       "<style scoped>\n",
       "    .dataframe tbody tr th:only-of-type {\n",
       "        vertical-align: middle;\n",
       "    }\n",
       "\n",
       "    .dataframe tbody tr th {\n",
       "        vertical-align: top;\n",
       "    }\n",
       "\n",
       "    .dataframe thead th {\n",
       "        text-align: right;\n",
       "    }\n",
       "</style>\n",
       "<table border=\"1\" class=\"dataframe\">\n",
       "  <thead>\n",
       "    <tr style=\"text-align: right;\">\n",
       "      <th></th>\n",
       "      <th>speed</th>\n",
       "      <th>power</th>\n",
       "    </tr>\n",
       "  </thead>\n",
       "  <tbody>\n",
       "    <tr>\n",
       "      <th>count</th>\n",
       "      <td>487.000000</td>\n",
       "      <td>487.000000</td>\n",
       "    </tr>\n",
       "    <tr>\n",
       "      <th>mean</th>\n",
       "      <td>12.294641</td>\n",
       "      <td>49.296287</td>\n",
       "    </tr>\n",
       "    <tr>\n",
       "      <th>std</th>\n",
       "      <td>7.077215</td>\n",
       "      <td>41.409933</td>\n",
       "    </tr>\n",
       "    <tr>\n",
       "      <th>min</th>\n",
       "      <td>0.000000</td>\n",
       "      <td>0.000000</td>\n",
       "    </tr>\n",
       "    <tr>\n",
       "      <th>25%</th>\n",
       "      <td>6.143500</td>\n",
       "      <td>5.769000</td>\n",
       "    </tr>\n",
       "    <tr>\n",
       "      <th>50%</th>\n",
       "      <td>12.337000</td>\n",
       "      <td>44.745000</td>\n",
       "    </tr>\n",
       "    <tr>\n",
       "      <th>75%</th>\n",
       "      <td>18.380500</td>\n",
       "      <td>93.733500</td>\n",
       "    </tr>\n",
       "    <tr>\n",
       "      <th>max</th>\n",
       "      <td>24.399000</td>\n",
       "      <td>113.556000</td>\n",
       "    </tr>\n",
       "  </tbody>\n",
       "</table>\n",
       "</div>"
      ],
      "text/plain": [
       "            speed       power\n",
       "count  487.000000  487.000000\n",
       "mean    12.294641   49.296287\n",
       "std      7.077215   41.409933\n",
       "min      0.000000    0.000000\n",
       "25%      6.143500    5.769000\n",
       "50%     12.337000   44.745000\n",
       "75%     18.380500   93.733500\n",
       "max     24.399000  113.556000"
      ]
     },
     "execution_count": 52,
     "metadata": {},
     "output_type": "execute_result"
    }
   ],
   "source": [
    "# Output statistical summary of updated data frame\n",
    "pp_updated.describe()"
   ]
  },
  {
   "cell_type": "code",
   "execution_count": 53,
   "metadata": {},
   "outputs": [
    {
     "data": {
      "text/plain": [
       "Text(0, 0.5, 'power (kW)')"
      ]
     },
     "execution_count": 53,
     "metadata": {},
     "output_type": "execute_result"
    },
    {
     "data": {
      "image/png": "[encoded data removed]",
      "text/plain": [
       "<Figure size 792x432 with 1 Axes>"
      ]
     },
     "metadata": {},
     "output_type": "display_data"
    }
   ],
   "source": [
    "# Plot data with detected outliers removed\n",
    "plt.scatter(pp_updated['speed'], pp_updated['power'], color='brown', marker='o', s=10)\n",
    "\n",
    "plt.title('Detected outliers removed')\n",
    "plt.xlabel('speed (m/s)')\n",
    "plt.ylabel('power (kW)')"
   ]
  },
  {
   "cell_type": "markdown",
   "metadata": {},
   "source": [
    "The Mahalonibis Distance function detected all but one outlier. I will remove this too for improved performance. Firstly, we view the last 5 observations with power = 0kW:"
   ]
  },
  {
   "cell_type": "code",
   "execution_count": 56,
   "metadata": {},
   "outputs": [
    {
     "data": {
      "text/html": [
       "<div>\n",
       "<style scoped>\n",
       "    .dataframe tbody tr th:only-of-type {\n",
       "        vertical-align: middle;\n",
       "    }\n",
       "\n",
       "    .dataframe tbody tr th {\n",
       "        vertical-align: top;\n",
       "    }\n",
       "\n",
       "    .dataframe thead th {\n",
       "        text-align: right;\n",
       "    }\n",
       "</style>\n",
       "<table border=\"1\" class=\"dataframe\">\n",
       "  <thead>\n",
       "    <tr style=\"text-align: right;\">\n",
       "      <th></th>\n",
       "      <th>speed</th>\n",
       "      <th>power</th>\n",
       "    </tr>\n",
       "  </thead>\n",
       "  <tbody>\n",
       "    <tr>\n",
       "      <th>135</th>\n",
       "      <td>6.857</td>\n",
       "      <td>0.0</td>\n",
       "    </tr>\n",
       "    <tr>\n",
       "      <th>136</th>\n",
       "      <td>6.957</td>\n",
       "      <td>0.0</td>\n",
       "    </tr>\n",
       "    <tr>\n",
       "      <th>140</th>\n",
       "      <td>7.107</td>\n",
       "      <td>0.0</td>\n",
       "    </tr>\n",
       "    <tr>\n",
       "      <th>149</th>\n",
       "      <td>7.432</td>\n",
       "      <td>0.0</td>\n",
       "    </tr>\n",
       "    <tr>\n",
       "      <th>208</th>\n",
       "      <td>10.511</td>\n",
       "      <td>0.0</td>\n",
       "    </tr>\n",
       "  </tbody>\n",
       "</table>\n",
       "</div>"
      ],
      "text/plain": [
       "      speed  power\n",
       "135   6.857    0.0\n",
       "136   6.957    0.0\n",
       "140   7.107    0.0\n",
       "149   7.432    0.0\n",
       "208  10.511    0.0"
      ]
     },
     "execution_count": 56,
     "metadata": {},
     "output_type": "execute_result"
    }
   ],
   "source": [
    "# Data set containing only power=0 values\n",
    "pp_zero = pp_updated.loc[pp_updated['power'] == 0]\n",
    "\n",
    "# Output last 5 rows\n",
    "pp_zero.tail()"
   ]
  },
  {
   "cell_type": "markdown",
   "metadata": {},
   "source": [
    "We can see that the outlier is at index 208. This can be removed with the following code:"
   ]
  },
  {
   "cell_type": "code",
   "execution_count": 57,
   "metadata": {},
   "outputs": [],
   "source": [
    "# Updated dataframe with all outliers removed\n",
    "pp_clean = pp_updated.drop([208])"
   ]
  },
  {
   "cell_type": "code",
   "execution_count": 58,
   "metadata": {},
   "outputs": [
    {
     "data": {
      "text/plain": [
       "Text(0, 0.5, 'power (kW)')"
      ]
     },
     "execution_count": 58,
     "metadata": {},
     "output_type": "execute_result"
    },
    {
     "data": {
      "image/png": "[encoded data removed]",
      "text/plain": [
       "<Figure size 792x432 with 1 Axes>"
      ]
     },
     "metadata": {},
     "output_type": "display_data"
    }
   ],
   "source": [
    "# Plot data with all outliers removed\n",
    "plt.scatter(pp_clean['speed'], pp_clean['power'], color='brown', marker='o', s=10)\n",
    "\n",
    "plt.title('All outliers removed')\n",
    "plt.xlabel('speed (m/s)')\n",
    "plt.ylabel('power (kW)')"
   ]
  },
  {
   "cell_type": "markdown",
   "metadata": {},
   "source": [
    "##### Model after outlier removal\n",
    "\n",
    "Now, let us build a simple linear regression model with outliers removed from the data set to see how this adjustment affects the performance of the model:"
   ]
  },
  {
   "cell_type": "code",
   "execution_count": 89,
   "metadata": {},
   "outputs": [
    {
     "data": {
      "text/plain": [
       "array([  5.5509909 , -18.87009061])"
      ]
     },
     "execution_count": 89,
     "metadata": {},
     "output_type": "execute_result"
    }
   ],
   "source": [
    "# Call polyfit passing speed and power as parameters\n",
    "coeffs2 = np.polyfit(pp_clean.speed, pp_clean.power, 1)\n",
    "\n",
    "# Output polynomial coefficients (slope and y-intercept)\n",
    "coeffs2"
   ]
  },
  {
   "cell_type": "markdown",
   "metadata": {},
   "source": [
    "We can see immediately that the slope and intercept of the line of best fit have changed. Using `poly1d()` once more let us use the new model to make predictions:"
   ]
  },
  {
   "cell_type": "code",
   "execution_count": 91,
   "metadata": {},
   "outputs": [
    {
     "data": {
      "text/plain": [
       "array([-1.88700906e+01, -1.81762167e+01, -1.80374420e+01, -1.76211177e+01,\n",
       "       -1.73435681e+01, -1.70660186e+01, -1.66496942e+01, -1.63721447e+01,\n",
       "       -1.60890442e+01, -1.59502694e+01, -1.58114946e+01, -1.56727198e+01,\n",
       "       -1.53951703e+01, -1.51176208e+01, -1.49788460e+01, -1.48400712e+01,\n",
       "       -1.47012964e+01, -1.44237469e+01, -1.42849721e+01, -1.41461974e+01,\n",
       "       -1.37298730e+01, -1.35910983e+01, -1.34523235e+01, -1.33135487e+01,\n",
       "       -1.31747739e+01, -1.30359992e+01, -1.28972244e+01, -1.27584496e+01,\n",
       "       -1.24809001e+01, -1.19258010e+01, -1.17870262e+01, -1.16482514e+01,\n",
       "       -1.10931524e+01, -1.09543776e+01, -1.05325023e+01, -1.02549527e+01,\n",
       "       -9.69985364e+00, -9.56107887e+00, -9.42230410e+00, -8.72843023e+00,\n",
       "       -8.45088069e+00, -8.31210592e+00, -7.61823205e+00, -7.34068251e+00,\n",
       "       -7.20190774e+00, -6.78558342e+00, -6.50803387e+00, -6.36925910e+00,\n",
       "       -5.53661047e+00, -5.12028615e+00, -4.69841084e+00, -4.55963607e+00,\n",
       "       -3.86576221e+00, -3.17188834e+00, -3.03311357e+00, -2.47801448e+00,\n",
       "       -2.20046494e+00, -2.06169016e+00, -1.92291539e+00, -1.78414062e+00,\n",
       "       -1.50659107e+00, -1.09026676e+00, -1.18843349e-01,  1.99314235e-02,\n",
       "        1.58706196e-01,  5.80581504e-01,  7.19356277e-01,  9.96905822e-01,\n",
       "        1.13568059e+00,  1.27445537e+00,  1.55200491e+00,  1.69077968e+00,\n",
       "        1.82955446e+00,  2.10710400e+00,  2.24587877e+00,  2.66220309e+00,\n",
       "        2.80097786e+00,  2.93975264e+00,  3.07852741e+00,  3.21730218e+00,\n",
       "        4.32750036e+00,  5.02137422e+00,  5.16014900e+00,  5.71524809e+00,\n",
       "        6.27589817e+00,  6.41467294e+00,  6.69222248e+00,  7.38609635e+00,\n",
       "        7.66364589e+00,  8.21874498e+00,  8.35751975e+00,  8.49629453e+00,\n",
       "        8.63506930e+00,  8.77384407e+00,  9.05139362e+00,  9.32894316e+00,\n",
       "        9.60649271e+00,  9.88404225e+00,  1.00228170e+01,  1.03003666e+01,\n",
       "        1.04391413e+01,  1.05779161e+01,  1.12717900e+01,  1.14105647e+01,\n",
       "        1.16936653e+01,  1.19712148e+01,  1.23875391e+01,  1.26650887e+01,\n",
       "        1.28038635e+01,  1.29426382e+01,  1.32201878e+01,  1.33589626e+01,\n",
       "        1.34977373e+01,  1.39140616e+01,  1.40528364e+01,  1.41916112e+01,\n",
       "        1.43303860e+01,  1.44691607e+01,  1.46079355e+01,  1.48854851e+01,\n",
       "        1.50242598e+01,  1.51630346e+01,  1.53018094e+01,  1.54405841e+01,\n",
       "        1.57181337e+01,  1.64120075e+01,  1.66895571e+01,  1.69671066e+01,\n",
       "        1.71058814e+01,  1.78053063e+01,  1.82216306e+01,  1.84991801e+01,\n",
       "        1.86379549e+01,  1.87767297e+01,  1.90542792e+01,  1.91930540e+01,\n",
       "        1.97481531e+01,  1.98869279e+01,  2.03032522e+01,  2.04420269e+01,\n",
       "        2.05808017e+01,  2.08583513e+01,  2.09971260e+01,  2.11359008e+01,\n",
       "        2.12746756e+01,  2.14134503e+01,  2.16909999e+01,  2.21073242e+01,\n",
       "        2.22460990e+01,  2.23848738e+01,  2.28067491e+01,  2.30842986e+01,\n",
       "        2.33618482e+01,  2.35006229e+01,  2.37781725e+01,  2.39169472e+01,\n",
       "        2.40557220e+01,  2.44720463e+01,  2.46108211e+01,  2.47495959e+01,\n",
       "        2.48883707e+01,  2.50271454e+01,  2.51659202e+01,  2.57210193e+01,\n",
       "        2.59985688e+01,  2.62761184e+01,  2.65536679e+01,  2.66924427e+01,\n",
       "        2.72475418e+01,  2.78026409e+01,  2.80801904e+01,  2.85020657e+01,\n",
       "        2.90571648e+01,  2.91959396e+01,  2.93347144e+01,  2.97510387e+01,\n",
       "        3.01673630e+01,  3.03061378e+01,  3.04449125e+01,  3.08612369e+01,\n",
       "        3.22489846e+01,  3.25265341e+01,  3.28040837e+01,  3.34979575e+01,\n",
       "        3.40586076e+01,  3.41973824e+01,  3.44749319e+01,  3.51688058e+01,\n",
       "        3.55851301e+01,  3.57239049e+01,  3.58626797e+01,  3.60014544e+01,\n",
       "        3.62790040e+01,  3.64177788e+01,  3.65565535e+01,  3.68341031e+01,\n",
       "        3.71116526e+01,  3.72504274e+01,  3.73892022e+01,  3.75279769e+01,\n",
       "        3.76667517e+01,  3.78055265e+01,  3.79443012e+01,  3.80830760e+01,\n",
       "        3.82218508e+01,  3.86381751e+01,  3.87769499e+01,  3.93320490e+01,\n",
       "        3.97539243e+01,  4.03090234e+01,  4.05865729e+01,  4.07253477e+01,\n",
       "        4.08641225e+01,  4.15579963e+01,  4.19743206e+01,  4.21130954e+01,\n",
       "        4.22518702e+01,  4.23906450e+01,  4.28069693e+01,  4.30845188e+01,\n",
       "        4.33620684e+01,  4.37783927e+01,  4.39171675e+01,  4.40559422e+01,\n",
       "        4.41947170e+01,  4.43334918e+01,  4.55880157e+01,  4.58655653e+01,\n",
       "        4.60043400e+01,  4.62818896e+01,  4.65594391e+01,  4.66982139e+01,\n",
       "        4.69757634e+01,  4.73920878e+01,  4.75308625e+01,  4.76696373e+01,\n",
       "        4.79471868e+01,  4.86410607e+01,  4.87798355e+01,  4.89186103e+01,\n",
       "        4.91961598e+01,  4.93349346e+01,  4.96124841e+01,  4.97512589e+01,\n",
       "        4.98900337e+01,  5.00288084e+01,  5.03063580e+01,  5.04451328e+01,\n",
       "        5.07282333e+01,  5.08670081e+01,  5.10057828e+01,  5.11445576e+01,\n",
       "        5.14221072e+01,  5.16996567e+01,  5.18384315e+01,  5.21159810e+01,\n",
       "        5.25323053e+01,  5.26710801e+01,  5.30874044e+01,  5.32261792e+01,\n",
       "        5.35037287e+01,  5.47527017e+01,  5.50302512e+01,  5.51690260e+01,\n",
       "        5.54465756e+01,  5.57241251e+01,  5.62847752e+01,  5.64235500e+01,\n",
       "        5.72561986e+01,  5.73949734e+01,  5.85051715e+01,  5.86439463e+01,\n",
       "        5.87827211e+01,  5.89214959e+01,  5.90602706e+01,  5.96153697e+01,\n",
       "        5.98929193e+01,  6.03092436e+01,  6.04480184e+01,  6.07255679e+01,\n",
       "        6.08643427e+01,  6.10031174e+01,  6.15582165e+01,  6.18413171e+01,\n",
       "        6.21188666e+01,  6.22576414e+01,  6.23964162e+01,  6.28127405e+01,\n",
       "        6.29515153e+01,  6.30902900e+01,  6.35066143e+01,  6.36453891e+01,\n",
       "        6.47555873e+01,  6.50331368e+01,  6.51719116e+01,  6.53106864e+01,\n",
       "        6.54494612e+01,  6.55882359e+01,  6.57270107e+01,  6.58657855e+01,\n",
       "        6.61433350e+01,  6.62821098e+01,  6.66984341e+01,  6.69759837e+01,\n",
       "        6.71147584e+01,  6.73978590e+01,  6.76754085e+01,  6.80917328e+01,\n",
       "        6.83692824e+01,  6.85080571e+01,  6.86468319e+01,  6.89243815e+01,\n",
       "        6.94794805e+01,  6.98958049e+01,  7.01733544e+01,  7.03121292e+01,\n",
       "        7.04509040e+01,  7.10060030e+01,  7.12835526e+01,  7.15611021e+01,\n",
       "        7.19774265e+01,  7.23937508e+01,  7.25325255e+01,  7.30931756e+01,\n",
       "        7.32319504e+01,  7.33707252e+01,  7.36482747e+01,  7.37870495e+01,\n",
       "        7.39258243e+01,  7.43421486e+01,  7.46196981e+01,  7.50360224e+01,\n",
       "        7.51747972e+01,  7.53135720e+01,  7.54523468e+01,  7.55911215e+01,\n",
       "        7.58686711e+01,  7.61462206e+01,  7.62849954e+01,  7.69788693e+01,\n",
       "        7.72564188e+01,  7.73951936e+01,  7.75339683e+01,  7.78115179e+01,\n",
       "        7.79502927e+01,  7.80890674e+01,  7.82278422e+01,  7.83721680e+01,\n",
       "        7.85109427e+01,  7.86497175e+01,  7.87884923e+01,  7.89272671e+01,\n",
       "        7.90660418e+01,  7.98986905e+01,  8.00374652e+01,  8.01762400e+01,\n",
       "        8.04537896e+01,  8.12864382e+01,  8.14252130e+01,  8.15639877e+01,\n",
       "        8.22578616e+01,  8.25354111e+01,  8.28129607e+01,  8.30905102e+01,\n",
       "        8.32292850e+01,  8.33680598e+01,  8.39287099e+01,  8.40674846e+01,\n",
       "        8.43450342e+01,  8.44838089e+01,  8.49001333e+01,  8.51776828e+01,\n",
       "        8.53164576e+01,  8.54552324e+01,  8.57327819e+01,  8.58715567e+01,\n",
       "        8.61491062e+01,  8.62878810e+01,  8.65654305e+01,  8.68429801e+01,\n",
       "        8.69817549e+01,  8.71205296e+01,  8.75368539e+01,  8.76756287e+01,\n",
       "        8.80919530e+01,  8.90633764e+01,  8.96240265e+01,  8.97628013e+01,\n",
       "        8.99015761e+01,  9.00403508e+01,  9.01791256e+01,  9.03179004e+01,\n",
       "        9.04566752e+01,  9.05954499e+01,  9.08729995e+01,  9.10117742e+01,\n",
       "        9.11505490e+01,  9.12893238e+01,  9.15668733e+01,  9.18444229e+01,\n",
       "        9.19831977e+01,  9.23995220e+01,  9.28158463e+01,  9.29546211e+01,\n",
       "        9.30933958e+01,  9.33709454e+01,  9.36484949e+01,  9.37872697e+01,\n",
       "        9.39260445e+01,  9.40648192e+01,  9.47586931e+01,  9.50417936e+01,\n",
       "        9.53193432e+01,  9.57356675e+01,  9.58744423e+01,  9.64295414e+01,\n",
       "        9.65683161e+01,  9.69846405e+01,  9.79560639e+01,  9.80948386e+01,\n",
       "        9.83723882e+01,  9.94825864e+01,  9.98989107e+01,  1.00037685e+02,\n",
       "        1.00176460e+02,  1.00315235e+02,  1.00454010e+02,  1.01153435e+02,\n",
       "        1.01430984e+02,  1.01708534e+02,  1.02263633e+02,  1.02402408e+02,\n",
       "        1.02818732e+02,  1.03373831e+02,  1.03651381e+02,  1.04067705e+02,\n",
       "        1.04484029e+02,  1.04622804e+02,  1.04761579e+02,  1.04900353e+02,\n",
       "        1.05039128e+02,  1.05177903e+02,  1.05594227e+02,  1.05871777e+02,\n",
       "        1.06010552e+02,  1.06154877e+02,  1.06709977e+02,  1.06987526e+02,\n",
       "        1.07265076e+02,  1.07542625e+02,  1.07681400e+02,  1.07820175e+02,\n",
       "        1.08097724e+02,  1.08930373e+02,  1.09485472e+02,  1.10040571e+02,\n",
       "        1.10179346e+02,  1.10318121e+02,  1.10456895e+02,  1.10595670e+02,\n",
       "        1.10734445e+02,  1.10873220e+02,  1.11150769e+02,  1.11428319e+02,\n",
       "        1.11567094e+02,  1.11850194e+02,  1.11988969e+02,  1.12127744e+02,\n",
       "        1.12266518e+02,  1.12682843e+02,  1.12821617e+02,  1.13237942e+02,\n",
       "        1.13376717e+02,  1.13515491e+02,  1.13793041e+02,  1.14070590e+02,\n",
       "        1.14209365e+02,  1.14486915e+02,  1.14625690e+02,  1.15319563e+02,\n",
       "        1.15458338e+02,  1.15735888e+02,  1.16013437e+02,  1.16290987e+02,\n",
       "        1.16429762e+02,  1.16568536e+02])"
      ]
     },
     "execution_count": 91,
     "metadata": {},
     "output_type": "execute_result"
    }
   ],
   "source": [
    "# Pass coeffs to the poly1d function\n",
    "predict2 = np.poly1d(coeffs2)\n",
    "\n",
    "# Output predicted power values\n",
    "predict2(pp_clean.speed)"
   ]
  },
  {
   "cell_type": "markdown",
   "metadata": {},
   "source": [
    "Taking a look at the array of predicted values we see that our model predicts some negative values for power output. It is clear how this is happening when we visualise these predictions. Below, I plot both lines over a scatter plot of the data. The code for this plot was taken from the course notes for this module (Fundamentals of Data Analysis) [20]"
   ]
  },
  {
   "cell_type": "code",
   "execution_count": 21,
   "metadata": {},
   "outputs": [
    {
     "data": {
      "image/png": "[encoded data removed]",
      "text/plain": [
       "<Figure size 792x432 with 1 Axes>"
      ]
     },
     "metadata": {},
     "output_type": "display_data"
    }
   ],
   "source": [
    "# Plot both lines on one plot.\n",
    "plt.plot(pp.speed, pp.power, '.', label=\"Outliers\")\n",
    "plt.plot(pp.speed, coeffs[0] * pp.speed + coeffs[1], '-', label='With outliers')\n",
    "plt.plot(pp_updated.speed, pp_updated.power, '.', label=\"Remaining data\")\n",
    "plt.plot(pp_updated.speed, coeffs2[0] * pp_updated.speed + coeffs2[1], '-', label='Outliers removed')\n",
    "\n",
    "plt.title('Regressions lines with/without outliers')\n",
    "plt.xlabel('speed(m/s)')\n",
    "plt.ylabel('power(kW)')\n",
    "plt.legend();"
   ]
  },
  {
   "cell_type": "markdown",
   "metadata": {},
   "source": [
    "From this plot we get a visualisation of the difference made by the removal of outliers. The regression line is pulled towards the outliers when they remain in the data set. Calculating the R-squared value for our updated model will give us further indication that we now have a better fitting line:"
   ]
  },
  {
   "cell_type": "code",
   "execution_count": 22,
   "metadata": {},
   "outputs": [
    {
     "name": "stdout",
     "output_type": "stream",
     "text": [
      "R-squared of updated data set:  0.9025487607456801\n"
     ]
    }
   ],
   "source": [
    "# Generate correlation matrix\n",
    "correlation_matrix2 = np.corrcoef(pp_updated.speed, pp_updated.power)\n",
    "\n",
    "# Slice array to get correlation coefficient\n",
    "correlation_xy2 = correlation_matrix2[0, 1]\n",
    "\n",
    "# Calculate R-squared value\n",
    "r_2_updated = correlation_xy2 ** 2\n",
    "\n",
    "# Print result to screen\n",
    "print('R-squared of updated data set: ', r_2_updated)"
   ]
  },
  {
   "cell_type": "markdown",
   "metadata": {},
   "source": [
    "Once the outliers have been removed, we can see the impact it has visually but also in terms of statistical \"goodness-of-fit\" metrics. The R-squared value before outliers were removed was **~0.73** while after removal is **~0.90**."
   ]
  },
  {
   "cell_type": "markdown",
   "metadata": {},
   "source": [
    "<br>\n",
    "\n",
    "##### end section"
   ]
  },
  {
   "cell_type": "markdown",
   "metadata": {},
   "source": [
    "<br>\n",
    "\n"
   ]
  },
  {
   "cell_type": "markdown",
   "metadata": {},
   "source": [
    "## 3. Polynomial Regression\n",
    "\n",
    "***\n",
    "\n",
    "The removal of outliers has improved the accuracy of the linear regression model. This can be visualised on the plot generated above but it was also verified statistically through comparison of the R-squared values. However, it is clear that a straight line does not fully capture all of the data. A simple linear regression model over- and under-predicts at various points, predicting negative values of turbine power output.\n",
    "\n",
    "Given that the *power* and *speed* variables do not have a linear relationship, a polynomial regression model could be used to fit a *curve* to the data. Polynomial regression is still considered a linear regression and like the example above, it uses the relationship between the independent and dependent variables to best fit a line/curve to the data points. It involves adding exponents to the input variable (speed), thereby adding curves to the line [21]. The equation for polynomial regression can be expressed as: $$y = b_0 + b_1x_1 + b_2x_1^2 + ... + b_nx_1^n$$\n",
    "\n",
    "<br>\n",
    "\n",
    "where $b$ is a set of coefficients and $n$ is the degree of the polynomial [22]. For our simple linear regression model above, we saw that the `polyfit()` function returned the coefficients for the equation of a line ($y = mx + c$). Changing the degree parameter (`deg`), we can perform regression with higher order terms:"
   ]
  },
  {
   "cell_type": "code",
   "execution_count": 37,
   "metadata": {
    "scrolled": false
   },
   "outputs": [],
   "source": [
    "# Call polyfit with degree = 9\n",
    "poly_coeffs = np.polyfit(pp_updated.speed, pp_updated.power, deg=9)\n",
    "\n",
    "# Use poly1d to estimate unknown values\n",
    "poly_predict = np.poly1d(poly_coeffs)"
   ]
  },
  {
   "cell_type": "markdown",
   "metadata": {},
   "source": [
    "We can take a quick look at the coefficients returned:"
   ]
  },
  {
   "cell_type": "code",
   "execution_count": 38,
   "metadata": {},
   "outputs": [
    {
     "name": "stdout",
     "output_type": "stream",
     "text": [
      "[ 3.38365804e-08 -3.91728439e-06  1.86061820e-04 -4.66300761e-03\n",
      "  6.61787702e-02 -5.35989974e-01  2.43862402e+00 -5.79058499e+00\n",
      "  6.11723370e+00  1.03516935e+00]\n"
     ]
    }
   ],
   "source": [
    "print(poly_coeffs)"
   ]
  },
  {
   "cell_type": "markdown",
   "metadata": {},
   "source": [
    "There are 9 coefficients, one for each of the 9 terms in the polynomial equation, followed by the intercept. \n",
    "\n",
    "Now we can plot the curve using the calculated coefficients and the predicted values of power from speed:"
   ]
  },
  {
   "cell_type": "code",
   "execution_count": 39,
   "metadata": {},
   "outputs": [
    {
     "data": {
      "text/plain": [
       "<matplotlib.legend.Legend at 0x20ae99fbf40>"
      ]
     },
     "execution_count": 39,
     "metadata": {},
     "output_type": "execute_result"
    },
    {
     "data": {
      "image/png": "[encoded data removed]",
      "text/plain": [
       "<Figure size 792x432 with 1 Axes>"
      ]
     },
     "metadata": {},
     "output_type": "display_data"
    }
   ],
   "source": [
    "# Plot curve \n",
    "plt.scatter(pp_updated.speed, pp_updated.power, label='actual', s=10)\n",
    "plt.plot(pp_updated.speed, poly_predict(pp_updated.speed), color='b', label='prediction')\n",
    "\n",
    "plt.title('Polynomial curve: Degree=9')\n",
    "plt.xlabel('speed(m/s)')\n",
    "plt.ylabel('power(kW)')\n",
    "plt.legend() "
   ]
  },
  {
   "cell_type": "markdown",
   "metadata": {},
   "source": [
    "It is clear from visualising the fitted curve that a polynomial regression builds a better predictive model than simple linear regression. We can calculate the R-squared value and compare it with those calculated above. We will need to import the `r2_score` function from the `sklearn.metrics` module for the polynomial model [23]. `scikit-learn` is a machine learning library for the Python programming language which includes numerous machine learning algorithms as well as various associated tools for evaluation, data preparation etc. [24]: "
   ]
  },
  {
   "cell_type": "code",
   "execution_count": 41,
   "metadata": {},
   "outputs": [
    {
     "name": "stdout",
     "output_type": "stream",
     "text": [
      "Polynomial R-squared:  0.9905646789482405\n"
     ]
    }
   ],
   "source": [
    "# Import r-squared function\n",
    "from sklearn.metrics import r2_score\n",
    "\n",
    "# print r-squared value\n",
    "print('Polynomial R-squared: ', r2_score(pp_updated.power, poly_predict(pp_updated.speed))) "
   ]
  },
  {
   "cell_type": "markdown",
   "metadata": {},
   "source": [
    "The polynomial regression model yields an R-squared value of **~0.99**. This indicates that it is more accurate than the simple linear regression model created above, which had an R-squared value of **0.90**. "
   ]
  },
  {
   "cell_type": "markdown",
   "metadata": {},
   "source": [
    "<br>\n",
    "\n",
    "##### end section"
   ]
  },
  {
   "cell_type": "markdown",
   "metadata": {},
   "source": [
    "<br>\n",
    "\n"
   ]
  },
  {
   "cell_type": "markdown",
   "metadata": {},
   "source": [
    "## 4. Train-test split\n",
    "\n",
    "***\n",
    "\n",
    "Until now, I have used the entire data set to train and test each of the predictive models above. When evaluating the models, the coefficient of determination was calculated. As noted, this is a statistical method which gives us a good indication as to their performance. The polynomial regression model yielded an R-squared score of **~0.99**. Given that the maximum score is 1, we might conclude that it is almost 100% accurate. However, having used the same data to train and test the model, the evaluation cannot be considered to have been truly unbiased. \n",
    "\n",
    "To minimise the potential for bias in building a supervised machine learning model, it is common practice to use the *train-test-split procedure*. This involves splitting the data into *train* and *test* subsets. As the names suggest, the train subset is used to train the model while the test subset is held back and used to test the model. It is quite a straight forward idea: the trained model is tested using data which it has not seen before. Given the random nature of real-world data, this makes intuitive sense as the goal of any predictive model is to make accurate predictions based on new input data. [25]\n",
    "\n",
    "#### 4.1 `train_test_split()` with `scikit_learn`\n",
    "\n",
    "`scikit-learn` provides the `train_test_split()` function which allows us to easily perform the procedure. The main configuration parameter is the *test_size* (or *train_size*) parameter, which enables us specify the size of the subsets into which we split the data [26]. Common split percentages are:\n",
    "* 80% Train; 20% Test\n",
    "* 67% Train; 33% Test\n",
    "* 50% Train; 50% Test [27]\n",
    "\n",
    "The data points for each subset are randomly allocated. Each time the function is called, the subsets will be populated with different combinations of observations. It is common practice to set the *random_state* parameter to some integer value. This sets a seed, thereby generating subsets with the same data each time the code is run. This is useful when comparing models as we know the data being used to train and test separate models is the exact same. Below, I call the function, dividing the data using a 50-50 split and setting the *random_state* parameter to 0. I output the length of each subset to verify the percentage split:"
   ]
  },
  {
   "cell_type": "code",
   "execution_count": 92,
   "metadata": {},
   "outputs": [
    {
     "data": {
      "text/plain": [
       "(388, 98, 388, 98)"
      ]
     },
     "execution_count": 92,
     "metadata": {},
     "output_type": "execute_result"
    }
   ],
   "source": [
    "# Import function from model_selection module\n",
    "from sklearn.model_selection import train_test_split\n",
    "\n",
    "# Call train_test_split function with test size = 50%\n",
    "x_train, x_test, y_train, y_test = train_test_split(pp_clean.speed, pp_clean.power, test_size=.20, random_state=10)\n",
    "\n",
    "# Length of each subset\n",
    "len(x_train), len(x_test), len(y_train), len(y_test)"
   ]
  },
  {
   "cell_type": "markdown",
   "metadata": {},
   "source": [
    "Now, we can use the same code above to train new models with the training data. These models will then be tested using the testing data:"
   ]
  },
  {
   "cell_type": "code",
   "execution_count": 93,
   "metadata": {},
   "outputs": [
    {
     "data": {
      "text/plain": [
       "array([ 23.94357603,  70.34603569,  42.39340969,  41.15535047,\n",
       "        87.14512372,  81.49957367, 105.45739524, 110.27757248,\n",
       "        99.81184519,  92.37798737,  57.67931423,  -6.4906709 ,\n",
       "        30.27693677,  89.76430679,  91.96530096,  66.90147981,\n",
       "        49.68970538,  14.71590796,  33.99111444,  41.29291261,\n",
       "        24.35626244,  23.66845176,  65.25073418,  26.55725662,\n",
       "        -5.52773595,  71.72165705,  15.54128078,   5.76336416,\n",
       "        14.02809728,  52.03376417, 101.33053117,  61.11836762,\n",
       "        13.3402866 ,  91.27749028, 110.69025889,  91.82773883,\n",
       "        44.45684173, -12.27378309,  67.31416622,  22.9751386 ,\n",
       "        55.74794184, 116.19824681,  65.66342059,  92.92823591,\n",
       "        27.24506729,  11.95916276,  25.59432166,  37.71079459,\n",
       "        26.28213234,   1.36137582, -15.4432147 ,  14.99103223,\n",
       "         8.38254723,  81.36201153,  25.04407312,  96.37279179,\n",
       "        56.57881714, 112.07138274,  55.33525543,  22.28732792,\n",
       "        44.31927959,  37.98591886,  10.72110354,  75.16621293,\n",
       "        55.06013116,  -0.70755871,  30.68962318, -15.71833897,\n",
       "        74.06571585,  92.79067378,  73.92815371,  11.13378995,\n",
       "        75.99158575,  49.13945683,  18.43558812,  34.54686547,\n",
       "        69.10797647, -17.23152246,  69.65822502,  -0.2948723 ,\n",
       "       -14.88746367, 113.17187982,  33.02817949,   9.20792004,\n",
       "        44.731966  ,  -3.87148783,  52.99669912,  -9.65460002,\n",
       "         3.83749426,  46.25065198, 102.29346612,  29.58912609,\n",
       "        77.50476924,  45.97552771,  65.93854486, 109.86488608,\n",
       "        49.55214324,  83.9811946 ])"
      ]
     },
     "execution_count": 93,
     "metadata": {},
     "output_type": "execute_result"
    }
   ],
   "source": [
    "# Call polyfit passing speed and power as parameters\n",
    "coeffs3 = np.polyfit(x_train, y_train, 1)\n",
    "\n",
    "# Pass coeffs to the poly1d function\n",
    "predict3 = np.poly1d(coeffs3)\n",
    "\n",
    "# Output predicted power \n",
    "predict3(x_test)"
   ]
  },
  {
   "cell_type": "code",
   "execution_count": 94,
   "metadata": {},
   "outputs": [
    {
     "name": "stdout",
     "output_type": "stream",
     "text": [
      "R-squared:  0.897082898514826\n"
     ]
    }
   ],
   "source": [
    "# print r-squared value\n",
    "print('R-squared: ', r2_score(y_test, predict3(x_test))) "
   ]
  },
  {
   "cell_type": "code",
   "execution_count": 95,
   "metadata": {},
   "outputs": [
    {
     "name": "stdout",
     "output_type": "stream",
     "text": [
      "R-squared:  0.9904531637483842\n"
     ]
    }
   ],
   "source": [
    "# Call polyfit with degree = 9\n",
    "poly_coeffs3 = np.polyfit(x_train, y_train, deg=9)\n",
    "\n",
    "# Use poly1d to estimate unknown values\n",
    "poly_predict3 = np.poly1d(poly_coeffs3)\n",
    "\n",
    "print('R-squared: ', r2_score(y_test, poly_predict3(x_test))) "
   ]
  },
  {
   "cell_type": "code",
   "execution_count": 96,
   "metadata": {},
   "outputs": [
    {
     "data": {
      "text/plain": [
       "array([  6.62878263,  86.34186014,  28.4858401 ,  26.09772316,\n",
       "        97.53937645,  95.73928787, 100.66942477, 100.02172035,\n",
       "        99.93641374,  98.55080686,  63.05033717,   3.08015876,\n",
       "        10.79564702,  98.07687576,  98.47727518,  81.27214849,\n",
       "        44.40692624,   4.54927275,  14.80795545,  26.35736154,\n",
       "         6.81188306,   6.51256814,  78.47051194,   7.98048304,\n",
       "         3.05030529,  88.06454074,   4.63443849,   3.78079623,\n",
       "         4.48467195,  49.91155154, 100.20629672,  70.51004176,\n",
       "         4.42439836,  98.3542608 ,  99.87081522,  98.45273852,\n",
       "        32.70453042,   3.30447596,  81.93573735,   6.23964652,\n",
       "        58.63227609,  95.84880862,  79.19262442,  98.64891654,\n",
       "         8.4172775 ,   4.3114841 ,   7.42778999,  20.1014302 ,\n",
       "         7.81570496,   3.34765886,   2.61364837,   4.57662758,\n",
       "         4.02173288,  95.67808837,   7.14136629,  99.28117649,\n",
       "        60.5481039 ,  99.22699778,  57.67371539,   5.99566989,\n",
       "        32.41477992,  20.54301439,   4.21372209,  91.63334136,\n",
       "        57.03246979,   3.17840433,  11.17984012,   2.47816318,\n",
       "        90.60614903,  98.62436327,  90.47043224,   4.24629595,\n",
       "        92.33703851,  43.12878115,   5.03649824,  15.51759125,\n",
       "        84.64343889,   1.39382981,  85.41559541,   3.20829575,\n",
       "         2.84061061,  98.54870982,  13.64633818,   4.09154728,\n",
       "        33.28741225,   3.04245644,  52.1844427 ,   3.25597791,\n",
       "         3.58924281,  36.58041877, 100.35916619,  10.18841609,\n",
       "        93.4856438 ,  35.97494792,  79.66608542, 100.15482237,\n",
       "        44.08670393,  96.68153263])"
      ]
     },
     "execution_count": 96,
     "metadata": {},
     "output_type": "execute_result"
    }
   ],
   "source": [
    "poly_predict3(x_test)"
   ]
  },
  {
   "cell_type": "code",
   "execution_count": null,
   "metadata": {},
   "outputs": [],
   "source": []
  },
  {
   "cell_type": "code",
   "execution_count": null,
   "metadata": {},
   "outputs": [],
   "source": []
  },
  {
   "cell_type": "code",
   "execution_count": null,
   "metadata": {},
   "outputs": [],
   "source": []
  },
  {
   "cell_type": "code",
   "execution_count": null,
   "metadata": {},
   "outputs": [],
   "source": []
  },
  {
   "cell_type": "code",
   "execution_count": null,
   "metadata": {},
   "outputs": [],
   "source": []
  },
  {
   "cell_type": "code",
   "execution_count": null,
   "metadata": {},
   "outputs": [],
   "source": []
  },
  {
   "cell_type": "code",
   "execution_count": null,
   "metadata": {},
   "outputs": [],
   "source": []
  },
  {
   "cell_type": "code",
   "execution_count": null,
   "metadata": {},
   "outputs": [],
   "source": []
  },
  {
   "cell_type": "code",
   "execution_count": null,
   "metadata": {},
   "outputs": [],
   "source": [
    "'''\n",
    "function to find random seed which produces the highest r-squared value\n",
    "'''\n",
    "def best_seed():\n",
    "    scores = []\n",
    "    for i in range(10000):\n",
    "        X_Train, X_Test, Y_Train, Y_Test = train_test_split(X, Y, test_size = 0.1, random_state=i)\n",
    "        reg.fit(X_Train, Y_Train)\n",
    "        scores.append(reg.score(X_Test, Y_Test))\n",
    "    return scores        "
   ]
  },
  {
   "cell_type": "code",
   "execution_count": null,
   "metadata": {},
   "outputs": [],
   "source": [
    "scores = best_seed()"
   ]
  },
  {
   "cell_type": "code",
   "execution_count": null,
   "metadata": {},
   "outputs": [],
   "source": [
    "min(scores)"
   ]
  },
  {
   "cell_type": "code",
   "execution_count": null,
   "metadata": {},
   "outputs": [],
   "source": [
    "max(scores)"
   ]
  },
  {
   "cell_type": "code",
   "execution_count": null,
   "metadata": {},
   "outputs": [],
   "source": [
    "scores.index(0.9306242340561958)"
   ]
  },
  {
   "cell_type": "code",
   "execution_count": null,
   "metadata": {},
   "outputs": [],
   "source": []
  },
  {
   "cell_type": "code",
   "execution_count": null,
   "metadata": {},
   "outputs": [],
   "source": []
  },
  {
   "cell_type": "code",
   "execution_count": null,
   "metadata": {},
   "outputs": [],
   "source": []
  },
  {
   "cell_type": "code",
   "execution_count": null,
   "metadata": {},
   "outputs": [],
   "source": []
  },
  {
   "cell_type": "code",
   "execution_count": null,
   "metadata": {},
   "outputs": [],
   "source": []
  },
  {
   "cell_type": "code",
   "execution_count": null,
   "metadata": {},
   "outputs": [],
   "source": []
  },
  {
   "cell_type": "code",
   "execution_count": null,
   "metadata": {},
   "outputs": [],
   "source": []
  },
  {
   "cell_type": "code",
   "execution_count": null,
   "metadata": {},
   "outputs": [],
   "source": []
  },
  {
   "cell_type": "code",
   "execution_count": null,
   "metadata": {},
   "outputs": [],
   "source": []
  },
  {
   "cell_type": "markdown",
   "metadata": {},
   "source": [
    "### References\n",
    "\n",
    "[1] w3schools.com; Numpy Introduction; https://www.w3schools.com/python/numpy_intro.asp <br>\n",
    "[2] w3schools.com; Pandas Tutorial https://www.w3schools.com/python/pandas_tutorial.asp <br>\n",
    "[3] w3schools.com; Matplotlib Pyplot; https://www.w3schools.com/python/matplotlib_pyplot.asp <br>\n",
    "[1] yale.edu; Linear Regression; http://www.stat.yale.edu/Courses/1997-98/101/linreg.htm <br>\n",
    "[2] yale.edu; Correlation; http://www.stat.yale.edu/Courses/1997-98/101/correl.htm <br>\n",
    "[3] youtube.com; Wind Turbine Power Curve description; https://www.youtube.com/watch?v=8tNOL4ZL9Do <br>\n",
    "[4] statisticshowto.com; Linear Regression: Simple Steps, Video. Find Equation, Coefficient, Slope; https://www.statisticshowto.com/probability-and-statistics/regression-analysis/find-a-linear-regression-equation/ <br>\n",
    "[1] Wikipedia; Regression analysis; https://en.wikipedia.org/wiki/Regression_analysis<br>\n",
    "[2] Malil, F; How Good is My Predictive Model - Regression Analysis; https://medium.com/fintechexplained/part-3-regression-analysis-bcfe15a12866 <br>\n",
    "[3] Frost, J; Choosing the Correct Type of Regression Analysis; https://statisticsbyjim.com/regression/choosing-regression-analysis/ <br>\n",
    "[4] Brownlee, J; How to Calculate Correlation Between Variables in Python https://machinelearningmastery.com/how-to-use-correlation-to-understand-the-relationship-between-variables/ <br>\n",
    "[5] Raschka, S.; https://github.com/rasbt/pattern_classification/blob/master/resources/latex_equations.md#correlation---pearson <br>\n",
    "[6] kite.com; How to calculate R squared with NumPy in Python; https://www.kite.com/python/answers/how-to-calculate-r-squared-with-numpy-in-python <br>\n",
    "[7] andrews.edu; Correlation Coefficients; https://www.andrews.edu/~calkins/math/edrm611/edrm05.htm <br>\n",
    "[8] Mester, T.; Linear Regression in Python using numpy + polyfit (with code base); https://data36.com/linear-regression-in-python-numpy-polyfit/ <br>\n",
    "[9] numpy.org; numpy.polyfit; https://numpy.org/doc/stable/reference/generated/numpy.polyfit.html <br>\n",
    "[10] Mester, T.; Linear Regression in Python using numpy + polyfit (with code base); https://data36.com/linear-regression-in-python-numpy-polyfit/ <br>\n",
    "[11] datatechnotes.com; Regression Model Accuracy (MAE, MSE, RMSE, R-squared) Check in R; https://www.datatechnotes.com/2019/02/regression-model-accuracy-mae-mse-rmse.html <br>\n",
    "[12] Frost, J; How To Interpret R-squared in Regression Analysis; https://statisticsbyjim.com/regression/interpret-r-squared-regression/ <br>\n",
    "[13] datatechnotes.com; Regression Model Accuracy (MAE, MSE, RMSE, R-squared) Check in R; https://www.datatechnotes.com/2019/02/regression-model-accuracy-mae-mse-rmse.html <br>\n",
    "[14] Frost, J; How To Interpret R-squared in Regression Analysis; https://statisticsbyjim.com/regression/interpret-r-squared-regression/ <br>\n",
    "[15] Brownlee, J; How to Remove Outliers for Machine Learning; https://machinelearningmastery.com/how-to-use-statistics-to-identify-outliers-in-data/ <br>\n",
    "[16] Detecting And Treating Outliers In Python — Part 2; https://towardsdatascience.com/detecting-and-treating-outliers-in-python-part-2-3a3319ec2c33 <br>\n",
    "[17] Pei, S. and Li, P., 2019; Wind Turbine Power Curve Modeling with a Hybrid Machine Learning Technique; https://www.researchgate.net/publication/337325612_Wind_Turbine_Power_Curve_Modeling_with_a_Hybrid_Machine_Learning_Technique <br>\n",
    "[18] Detecting And Treating Outliers In Python — Part 2; https://towardsdatascience.com/detecting-and-treating-outliers-in-python-part-2-3a3319ec2c33 <br>\n",
    "[19] Brownlee, J; How to Remove Outliers for Machine Learning; https://machinelearningmastery.com/how-to-use-statistics-to-identify-outliers-in-data/ <br>\n",
    "[20] McLouglin, I.; https://github.com/ianmcloughlin/jupyter-teaching-notebooks/blob/master/fitting-lines.ipynb <br>\n",
    "[21] Brownlee, J.; Curve Fitting With Python; https://machinelearningmastery.com/curve-fitting-with-python/ <br>\n",
    "[22] drque.net; Polynomial Regression; http://polynomialregression.drque.net/math.html <br>\n",
    "[23] data36.com; Linear Regression in Python using numpy + polyfit (with code base); https://data36.com/linear-regression-in-python-numpy-polyfit/ <br>\n",
    "[24] scikit-learn.org; https://scikit-learn.org/stable/ <br>\n",
    "[25] Split Your Dataset With scikit-learn's train_test_split(); https://realpython.com/train-test-split-python-data/ <br>\n",
    "[26] Brownlee, J; Train-Test Split for Evaluating Machine Learning Algorithms; https://machinelearningmastery.com/train-test-split-for-evaluating-machine-learning-algorithms/ <br>\n",
    "[27] *Ibid* <br>"
   ]
  },
  {
   "cell_type": "code",
   "execution_count": null,
   "metadata": {},
   "outputs": [],
   "source": []
  }
 ],
 "metadata": {
  "kernelspec": {
   "display_name": "Python 3",
   "language": "python",
   "name": "python3"
  },
  "language_info": {
   "codemirror_mode": {
    "name": "ipython",
    "version": 3
   },
   "file_extension": ".py",
   "mimetype": "text/x-python",
   "name": "python",
   "nbconvert_exporter": "python",
   "pygments_lexer": "ipython3",
   "version": "3.8.5"
  }
 },
 "nbformat": 4,
 "nbformat_minor": 4
}
